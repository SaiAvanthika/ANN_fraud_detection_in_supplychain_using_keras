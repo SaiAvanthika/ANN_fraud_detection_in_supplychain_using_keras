{
  "nbformat": 4,
  "nbformat_minor": 0,
  "metadata": {
    "colab": {
      "provenance": [],
      "authorship_tag": "ABX9TyMXprkoQOJHStMnaJJAE0uO",
      "include_colab_link": true
    },
    "kernelspec": {
      "name": "python3",
      "display_name": "Python 3"
    },
    "language_info": {
      "name": "python"
    }
  },
  "cells": [
    {
      "cell_type": "markdown",
      "metadata": {
        "id": "view-in-github",
        "colab_type": "text"
      },
      "source": [
        "<a href=\"https://colab.research.google.com/github/SaiAvanthika/ANN_fraud_detection_in_supplychain_using_keras/blob/main/ANN_fraud_detection_in_supplychain.ipynb\" target=\"_parent\"><img src=\"https://colab.research.google.com/assets/colab-badge.svg\" alt=\"Open In Colab\"/></a>"
      ]
    },
    {
      "cell_type": "code",
      "source": [
        "## Importing Required Libraries\n",
        "\n",
        "import numpy as np\n",
        "import pandas as pd\n",
        "import seaborn as sns\n",
        "import matplotlib.pyplot as plt\n",
        "%matplotlib inline\n",
        "\n",
        "#Plotly Graphing Libraries\n",
        "from plotly.offline import init_notebook_mode, iplot\n",
        "import cufflinks\n",
        "cufflinks.go_offline()\n",
        "cufflinks.set_config_file(world_readable=True, theme='pearl')\n",
        "import plotly.graph_objs as go\n",
        "import plotly\n",
        "import plotly.express as px\n",
        "\n",
        "## Machine Learning Libaries\n",
        "from sklearn import svm,metrics,tree,preprocessing,linear_model\n",
        "from sklearn.preprocessing import MinMaxScaler,StandardScaler\n",
        "import tensorflow as tf\n",
        "import keras\n",
        "from sklearn.model_selection import train_test_split,cross_val_score, cross_val_predict\n",
        "from sklearn import svm,metrics,tree,preprocessing,linear_model\n",
        "from sklearn.preprocessing import MinMaxScaler,StandardScaler\n",
        "import statsmodels.api as sm\n",
        "from sklearn.metrics import accuracy_score,mean_squared_error,recall_score,confusion_matrix,f1_score,roc_curve, auc\n",
        "from keras import Sequential\n",
        "from keras.layers import Dense, Activation\n",
        "from keras.callbacks import CSVLogger\n",
        "from sklearn.neural_network import MLPClassifier\n",
        "from dmba import classificationSummary\n"
      ],
      "metadata": {
        "colab": {
          "base_uri": "https://localhost:8080/",
          "height": 17
        },
        "id": "n1CU7mAS_2xy",
        "outputId": "b51975d4-f0a7-40e4-ab9d-0e18e460d855"
      },
      "execution_count": null,
      "outputs": [
        {
          "output_type": "display_data",
          "data": {
            "text/html": [
              "        <script type=\"text/javascript\">\n",
              "        window.PlotlyConfig = {MathJaxConfig: 'local'};\n",
              "        if (window.MathJax && window.MathJax.Hub && window.MathJax.Hub.Config) {window.MathJax.Hub.Config({SVG: {font: \"STIX-Web\"}});}\n",
              "        if (typeof require !== 'undefined') {\n",
              "        require.undef(\"plotly\");\n",
              "        requirejs.config({\n",
              "            paths: {\n",
              "                'plotly': ['https://cdn.plot.ly/plotly-2.24.1.min']\n",
              "            }\n",
              "        });\n",
              "        require(['plotly'], function(Plotly) {\n",
              "            window._Plotly = Plotly;\n",
              "        });\n",
              "        }\n",
              "        </script>\n",
              "        "
            ]
          },
          "metadata": {}
        }
      ]
    },
    {
      "cell_type": "code",
      "source": [
        "df = pd.read_csv('/content/DataCoSupplyChainDataset.csv',header= 0,encoding= 'unicode_escape')"
      ],
      "metadata": {
        "id": "RHtl-Zfh_9ZB"
      },
      "execution_count": null,
      "outputs": []
    },
    {
      "cell_type": "code",
      "source": [
        "df.head()\n"
      ],
      "metadata": {
        "colab": {
          "base_uri": "https://localhost:8080/",
          "height": 377
        },
        "id": "QifL_HsaBhTg",
        "outputId": "bd659b4f-c755-4684-c613-ad4842b0d564"
      },
      "execution_count": null,
      "outputs": [
        {
          "output_type": "execute_result",
          "data": {
            "text/plain": [
              "       Type  Days for shipping (real)  Days for shipment (scheduled)  \\\n",
              "0     DEBIT                         3                              4   \n",
              "1  TRANSFER                         5                              4   \n",
              "2      CASH                         4                              4   \n",
              "3     DEBIT                         3                              4   \n",
              "4   PAYMENT                         2                              4   \n",
              "\n",
              "   Benefit per order  Sales per customer   Delivery Status  \\\n",
              "0          91.250000          314.640015  Advance shipping   \n",
              "1        -249.089996          311.359985     Late delivery   \n",
              "2        -247.779999          309.720001  Shipping on time   \n",
              "3          22.860001          304.809998  Advance shipping   \n",
              "4         134.210007          298.250000  Advance shipping   \n",
              "\n",
              "   Late_delivery_risk  Category Id   Category Name Customer City  ...  \\\n",
              "0                   0           73  Sporting Goods        Caguas  ...   \n",
              "1                   1           73  Sporting Goods        Caguas  ...   \n",
              "2                   0           73  Sporting Goods      San Jose  ...   \n",
              "3                   0           73  Sporting Goods   Los Angeles  ...   \n",
              "4                   0           73  Sporting Goods        Caguas  ...   \n",
              "\n",
              "  Order Zipcode Product Card Id Product Category Id  Product Description  \\\n",
              "0           NaN          1360.0                73.0                  NaN   \n",
              "1           NaN          1360.0                73.0                  NaN   \n",
              "2           NaN          1360.0                73.0                  NaN   \n",
              "3           NaN          1360.0                73.0                  NaN   \n",
              "4           NaN          1360.0                73.0                  NaN   \n",
              "\n",
              "                                  Product Image  Product Name Product Price  \\\n",
              "0  http://images.acmesports.sports/Smart+watch   Smart watch         327.75   \n",
              "1  http://images.acmesports.sports/Smart+watch   Smart watch         327.75   \n",
              "2  http://images.acmesports.sports/Smart+watch   Smart watch         327.75   \n",
              "3  http://images.acmesports.sports/Smart+watch   Smart watch         327.75   \n",
              "4  http://images.acmesports.sports/Smart+watch   Smart watch         327.75   \n",
              "\n",
              "  Product Status shipping date (DateOrders)   Shipping Mode  \n",
              "0            0.0             2/3/2018 22:56  Standard Class  \n",
              "1            0.0            1/18/2018 12:27  Standard Class  \n",
              "2            0.0            1/17/2018 12:06  Standard Class  \n",
              "3            0.0            1/16/2018 11:45  Standard Class  \n",
              "4            0.0            1/15/2018 11:24  Standard Class  \n",
              "\n",
              "[5 rows x 53 columns]"
            ],
            "text/html": [
              "\n",
              "  <div id=\"df-2cc4585e-89ea-498b-9dc2-f76940e1c3f7\" class=\"colab-df-container\">\n",
              "    <div>\n",
              "<style scoped>\n",
              "    .dataframe tbody tr th:only-of-type {\n",
              "        vertical-align: middle;\n",
              "    }\n",
              "\n",
              "    .dataframe tbody tr th {\n",
              "        vertical-align: top;\n",
              "    }\n",
              "\n",
              "    .dataframe thead th {\n",
              "        text-align: right;\n",
              "    }\n",
              "</style>\n",
              "<table border=\"1\" class=\"dataframe\">\n",
              "  <thead>\n",
              "    <tr style=\"text-align: right;\">\n",
              "      <th></th>\n",
              "      <th>Type</th>\n",
              "      <th>Days for shipping (real)</th>\n",
              "      <th>Days for shipment (scheduled)</th>\n",
              "      <th>Benefit per order</th>\n",
              "      <th>Sales per customer</th>\n",
              "      <th>Delivery Status</th>\n",
              "      <th>Late_delivery_risk</th>\n",
              "      <th>Category Id</th>\n",
              "      <th>Category Name</th>\n",
              "      <th>Customer City</th>\n",
              "      <th>...</th>\n",
              "      <th>Order Zipcode</th>\n",
              "      <th>Product Card Id</th>\n",
              "      <th>Product Category Id</th>\n",
              "      <th>Product Description</th>\n",
              "      <th>Product Image</th>\n",
              "      <th>Product Name</th>\n",
              "      <th>Product Price</th>\n",
              "      <th>Product Status</th>\n",
              "      <th>shipping date (DateOrders)</th>\n",
              "      <th>Shipping Mode</th>\n",
              "    </tr>\n",
              "  </thead>\n",
              "  <tbody>\n",
              "    <tr>\n",
              "      <th>0</th>\n",
              "      <td>DEBIT</td>\n",
              "      <td>3</td>\n",
              "      <td>4</td>\n",
              "      <td>91.250000</td>\n",
              "      <td>314.640015</td>\n",
              "      <td>Advance shipping</td>\n",
              "      <td>0</td>\n",
              "      <td>73</td>\n",
              "      <td>Sporting Goods</td>\n",
              "      <td>Caguas</td>\n",
              "      <td>...</td>\n",
              "      <td>NaN</td>\n",
              "      <td>1360.0</td>\n",
              "      <td>73.0</td>\n",
              "      <td>NaN</td>\n",
              "      <td>http://images.acmesports.sports/Smart+watch</td>\n",
              "      <td>Smart watch</td>\n",
              "      <td>327.75</td>\n",
              "      <td>0.0</td>\n",
              "      <td>2/3/2018 22:56</td>\n",
              "      <td>Standard Class</td>\n",
              "    </tr>\n",
              "    <tr>\n",
              "      <th>1</th>\n",
              "      <td>TRANSFER</td>\n",
              "      <td>5</td>\n",
              "      <td>4</td>\n",
              "      <td>-249.089996</td>\n",
              "      <td>311.359985</td>\n",
              "      <td>Late delivery</td>\n",
              "      <td>1</td>\n",
              "      <td>73</td>\n",
              "      <td>Sporting Goods</td>\n",
              "      <td>Caguas</td>\n",
              "      <td>...</td>\n",
              "      <td>NaN</td>\n",
              "      <td>1360.0</td>\n",
              "      <td>73.0</td>\n",
              "      <td>NaN</td>\n",
              "      <td>http://images.acmesports.sports/Smart+watch</td>\n",
              "      <td>Smart watch</td>\n",
              "      <td>327.75</td>\n",
              "      <td>0.0</td>\n",
              "      <td>1/18/2018 12:27</td>\n",
              "      <td>Standard Class</td>\n",
              "    </tr>\n",
              "    <tr>\n",
              "      <th>2</th>\n",
              "      <td>CASH</td>\n",
              "      <td>4</td>\n",
              "      <td>4</td>\n",
              "      <td>-247.779999</td>\n",
              "      <td>309.720001</td>\n",
              "      <td>Shipping on time</td>\n",
              "      <td>0</td>\n",
              "      <td>73</td>\n",
              "      <td>Sporting Goods</td>\n",
              "      <td>San Jose</td>\n",
              "      <td>...</td>\n",
              "      <td>NaN</td>\n",
              "      <td>1360.0</td>\n",
              "      <td>73.0</td>\n",
              "      <td>NaN</td>\n",
              "      <td>http://images.acmesports.sports/Smart+watch</td>\n",
              "      <td>Smart watch</td>\n",
              "      <td>327.75</td>\n",
              "      <td>0.0</td>\n",
              "      <td>1/17/2018 12:06</td>\n",
              "      <td>Standard Class</td>\n",
              "    </tr>\n",
              "    <tr>\n",
              "      <th>3</th>\n",
              "      <td>DEBIT</td>\n",
              "      <td>3</td>\n",
              "      <td>4</td>\n",
              "      <td>22.860001</td>\n",
              "      <td>304.809998</td>\n",
              "      <td>Advance shipping</td>\n",
              "      <td>0</td>\n",
              "      <td>73</td>\n",
              "      <td>Sporting Goods</td>\n",
              "      <td>Los Angeles</td>\n",
              "      <td>...</td>\n",
              "      <td>NaN</td>\n",
              "      <td>1360.0</td>\n",
              "      <td>73.0</td>\n",
              "      <td>NaN</td>\n",
              "      <td>http://images.acmesports.sports/Smart+watch</td>\n",
              "      <td>Smart watch</td>\n",
              "      <td>327.75</td>\n",
              "      <td>0.0</td>\n",
              "      <td>1/16/2018 11:45</td>\n",
              "      <td>Standard Class</td>\n",
              "    </tr>\n",
              "    <tr>\n",
              "      <th>4</th>\n",
              "      <td>PAYMENT</td>\n",
              "      <td>2</td>\n",
              "      <td>4</td>\n",
              "      <td>134.210007</td>\n",
              "      <td>298.250000</td>\n",
              "      <td>Advance shipping</td>\n",
              "      <td>0</td>\n",
              "      <td>73</td>\n",
              "      <td>Sporting Goods</td>\n",
              "      <td>Caguas</td>\n",
              "      <td>...</td>\n",
              "      <td>NaN</td>\n",
              "      <td>1360.0</td>\n",
              "      <td>73.0</td>\n",
              "      <td>NaN</td>\n",
              "      <td>http://images.acmesports.sports/Smart+watch</td>\n",
              "      <td>Smart watch</td>\n",
              "      <td>327.75</td>\n",
              "      <td>0.0</td>\n",
              "      <td>1/15/2018 11:24</td>\n",
              "      <td>Standard Class</td>\n",
              "    </tr>\n",
              "  </tbody>\n",
              "</table>\n",
              "<p>5 rows × 53 columns</p>\n",
              "</div>\n",
              "    <div class=\"colab-df-buttons\">\n",
              "\n",
              "  <div class=\"colab-df-container\">\n",
              "    <button class=\"colab-df-convert\" onclick=\"convertToInteractive('df-2cc4585e-89ea-498b-9dc2-f76940e1c3f7')\"\n",
              "            title=\"Convert this dataframe to an interactive table.\"\n",
              "            style=\"display:none;\">\n",
              "\n",
              "  <svg xmlns=\"http://www.w3.org/2000/svg\" height=\"24px\" viewBox=\"0 -960 960 960\">\n",
              "    <path d=\"M120-120v-720h720v720H120Zm60-500h600v-160H180v160Zm220 220h160v-160H400v160Zm0 220h160v-160H400v160ZM180-400h160v-160H180v160Zm440 0h160v-160H620v160ZM180-180h160v-160H180v160Zm440 0h160v-160H620v160Z\"/>\n",
              "  </svg>\n",
              "    </button>\n",
              "\n",
              "  <style>\n",
              "    .colab-df-container {\n",
              "      display:flex;\n",
              "      gap: 12px;\n",
              "    }\n",
              "\n",
              "    .colab-df-convert {\n",
              "      background-color: #E8F0FE;\n",
              "      border: none;\n",
              "      border-radius: 50%;\n",
              "      cursor: pointer;\n",
              "      display: none;\n",
              "      fill: #1967D2;\n",
              "      height: 32px;\n",
              "      padding: 0 0 0 0;\n",
              "      width: 32px;\n",
              "    }\n",
              "\n",
              "    .colab-df-convert:hover {\n",
              "      background-color: #E2EBFA;\n",
              "      box-shadow: 0px 1px 2px rgba(60, 64, 67, 0.3), 0px 1px 3px 1px rgba(60, 64, 67, 0.15);\n",
              "      fill: #174EA6;\n",
              "    }\n",
              "\n",
              "    .colab-df-buttons div {\n",
              "      margin-bottom: 4px;\n",
              "    }\n",
              "\n",
              "    [theme=dark] .colab-df-convert {\n",
              "      background-color: #3B4455;\n",
              "      fill: #D2E3FC;\n",
              "    }\n",
              "\n",
              "    [theme=dark] .colab-df-convert:hover {\n",
              "      background-color: #434B5C;\n",
              "      box-shadow: 0px 1px 3px 1px rgba(0, 0, 0, 0.15);\n",
              "      filter: drop-shadow(0px 1px 2px rgba(0, 0, 0, 0.3));\n",
              "      fill: #FFFFFF;\n",
              "    }\n",
              "  </style>\n",
              "\n",
              "    <script>\n",
              "      const buttonEl =\n",
              "        document.querySelector('#df-2cc4585e-89ea-498b-9dc2-f76940e1c3f7 button.colab-df-convert');\n",
              "      buttonEl.style.display =\n",
              "        google.colab.kernel.accessAllowed ? 'block' : 'none';\n",
              "\n",
              "      async function convertToInteractive(key) {\n",
              "        const element = document.querySelector('#df-2cc4585e-89ea-498b-9dc2-f76940e1c3f7');\n",
              "        const dataTable =\n",
              "          await google.colab.kernel.invokeFunction('convertToInteractive',\n",
              "                                                    [key], {});\n",
              "        if (!dataTable) return;\n",
              "\n",
              "        const docLinkHtml = 'Like what you see? Visit the ' +\n",
              "          '<a target=\"_blank\" href=https://colab.research.google.com/notebooks/data_table.ipynb>data table notebook</a>'\n",
              "          + ' to learn more about interactive tables.';\n",
              "        element.innerHTML = '';\n",
              "        dataTable['output_type'] = 'display_data';\n",
              "        await google.colab.output.renderOutput(dataTable, element);\n",
              "        const docLink = document.createElement('div');\n",
              "        docLink.innerHTML = docLinkHtml;\n",
              "        element.appendChild(docLink);\n",
              "      }\n",
              "    </script>\n",
              "  </div>\n",
              "\n",
              "\n",
              "<div id=\"df-7eef9f4d-9710-4d66-9fc5-d8326d6c9455\">\n",
              "  <button class=\"colab-df-quickchart\" onclick=\"quickchart('df-7eef9f4d-9710-4d66-9fc5-d8326d6c9455')\"\n",
              "            title=\"Suggest charts.\"\n",
              "            style=\"display:none;\">\n",
              "\n",
              "<svg xmlns=\"http://www.w3.org/2000/svg\" height=\"24px\"viewBox=\"0 0 24 24\"\n",
              "     width=\"24px\">\n",
              "    <g>\n",
              "        <path d=\"M19 3H5c-1.1 0-2 .9-2 2v14c0 1.1.9 2 2 2h14c1.1 0 2-.9 2-2V5c0-1.1-.9-2-2-2zM9 17H7v-7h2v7zm4 0h-2V7h2v10zm4 0h-2v-4h2v4z\"/>\n",
              "    </g>\n",
              "</svg>\n",
              "  </button>\n",
              "\n",
              "<style>\n",
              "  .colab-df-quickchart {\n",
              "      --bg-color: #E8F0FE;\n",
              "      --fill-color: #1967D2;\n",
              "      --hover-bg-color: #E2EBFA;\n",
              "      --hover-fill-color: #174EA6;\n",
              "      --disabled-fill-color: #AAA;\n",
              "      --disabled-bg-color: #DDD;\n",
              "  }\n",
              "\n",
              "  [theme=dark] .colab-df-quickchart {\n",
              "      --bg-color: #3B4455;\n",
              "      --fill-color: #D2E3FC;\n",
              "      --hover-bg-color: #434B5C;\n",
              "      --hover-fill-color: #FFFFFF;\n",
              "      --disabled-bg-color: #3B4455;\n",
              "      --disabled-fill-color: #666;\n",
              "  }\n",
              "\n",
              "  .colab-df-quickchart {\n",
              "    background-color: var(--bg-color);\n",
              "    border: none;\n",
              "    border-radius: 50%;\n",
              "    cursor: pointer;\n",
              "    display: none;\n",
              "    fill: var(--fill-color);\n",
              "    height: 32px;\n",
              "    padding: 0;\n",
              "    width: 32px;\n",
              "  }\n",
              "\n",
              "  .colab-df-quickchart:hover {\n",
              "    background-color: var(--hover-bg-color);\n",
              "    box-shadow: 0 1px 2px rgba(60, 64, 67, 0.3), 0 1px 3px 1px rgba(60, 64, 67, 0.15);\n",
              "    fill: var(--button-hover-fill-color);\n",
              "  }\n",
              "\n",
              "  .colab-df-quickchart-complete:disabled,\n",
              "  .colab-df-quickchart-complete:disabled:hover {\n",
              "    background-color: var(--disabled-bg-color);\n",
              "    fill: var(--disabled-fill-color);\n",
              "    box-shadow: none;\n",
              "  }\n",
              "\n",
              "  .colab-df-spinner {\n",
              "    border: 2px solid var(--fill-color);\n",
              "    border-color: transparent;\n",
              "    border-bottom-color: var(--fill-color);\n",
              "    animation:\n",
              "      spin 1s steps(1) infinite;\n",
              "  }\n",
              "\n",
              "  @keyframes spin {\n",
              "    0% {\n",
              "      border-color: transparent;\n",
              "      border-bottom-color: var(--fill-color);\n",
              "      border-left-color: var(--fill-color);\n",
              "    }\n",
              "    20% {\n",
              "      border-color: transparent;\n",
              "      border-left-color: var(--fill-color);\n",
              "      border-top-color: var(--fill-color);\n",
              "    }\n",
              "    30% {\n",
              "      border-color: transparent;\n",
              "      border-left-color: var(--fill-color);\n",
              "      border-top-color: var(--fill-color);\n",
              "      border-right-color: var(--fill-color);\n",
              "    }\n",
              "    40% {\n",
              "      border-color: transparent;\n",
              "      border-right-color: var(--fill-color);\n",
              "      border-top-color: var(--fill-color);\n",
              "    }\n",
              "    60% {\n",
              "      border-color: transparent;\n",
              "      border-right-color: var(--fill-color);\n",
              "    }\n",
              "    80% {\n",
              "      border-color: transparent;\n",
              "      border-right-color: var(--fill-color);\n",
              "      border-bottom-color: var(--fill-color);\n",
              "    }\n",
              "    90% {\n",
              "      border-color: transparent;\n",
              "      border-bottom-color: var(--fill-color);\n",
              "    }\n",
              "  }\n",
              "</style>\n",
              "\n",
              "  <script>\n",
              "    async function quickchart(key) {\n",
              "      const quickchartButtonEl =\n",
              "        document.querySelector('#' + key + ' button');\n",
              "      quickchartButtonEl.disabled = true;  // To prevent multiple clicks.\n",
              "      quickchartButtonEl.classList.add('colab-df-spinner');\n",
              "      try {\n",
              "        const charts = await google.colab.kernel.invokeFunction(\n",
              "            'suggestCharts', [key], {});\n",
              "      } catch (error) {\n",
              "        console.error('Error during call to suggestCharts:', error);\n",
              "      }\n",
              "      quickchartButtonEl.classList.remove('colab-df-spinner');\n",
              "      quickchartButtonEl.classList.add('colab-df-quickchart-complete');\n",
              "    }\n",
              "    (() => {\n",
              "      let quickchartButtonEl =\n",
              "        document.querySelector('#df-7eef9f4d-9710-4d66-9fc5-d8326d6c9455 button');\n",
              "      quickchartButtonEl.style.display =\n",
              "        google.colab.kernel.accessAllowed ? 'block' : 'none';\n",
              "    })();\n",
              "  </script>\n",
              "</div>\n",
              "    </div>\n",
              "  </div>\n"
            ]
          },
          "metadata": {},
          "execution_count": 27
        }
      ]
    },
    {
      "cell_type": "code",
      "source": [
        "df.shape"
      ],
      "metadata": {
        "colab": {
          "base_uri": "https://localhost:8080/"
        },
        "id": "tNrhH6PGBkjl",
        "outputId": "ed307fb6-f43b-4175-80bb-a76520b3ac44"
      },
      "execution_count": null,
      "outputs": [
        {
          "output_type": "execute_result",
          "data": {
            "text/plain": [
              "(6014, 53)"
            ]
          },
          "metadata": {},
          "execution_count": 28
        }
      ]
    },
    {
      "cell_type": "code",
      "source": [
        "\n",
        "df.info()"
      ],
      "metadata": {
        "colab": {
          "base_uri": "https://localhost:8080/"
        },
        "id": "Gt-CkuoABqBJ",
        "outputId": "6430bf69-aca0-4821-a89a-05f439bc6a03"
      },
      "execution_count": null,
      "outputs": [
        {
          "output_type": "stream",
          "name": "stdout",
          "text": [
            "<class 'pandas.core.frame.DataFrame'>\n",
            "RangeIndex: 6014 entries, 0 to 6013\n",
            "Data columns (total 53 columns):\n",
            " #   Column                         Non-Null Count  Dtype  \n",
            "---  ------                         --------------  -----  \n",
            " 0   Type                           6014 non-null   object \n",
            " 1   Days for shipping (real)       6014 non-null   int64  \n",
            " 2   Days for shipment (scheduled)  6014 non-null   int64  \n",
            " 3   Benefit per order              6014 non-null   float64\n",
            " 4   Sales per customer             6014 non-null   float64\n",
            " 5   Delivery Status                6014 non-null   object \n",
            " 6   Late_delivery_risk             6014 non-null   int64  \n",
            " 7   Category Id                    6014 non-null   int64  \n",
            " 8   Category Name                  6014 non-null   object \n",
            " 9   Customer City                  6014 non-null   object \n",
            " 10  Customer Country               6014 non-null   object \n",
            " 11  Customer Email                 6014 non-null   object \n",
            " 12  Customer Fname                 6014 non-null   object \n",
            " 13  Customer Id                    6014 non-null   int64  \n",
            " 14  Customer Lname                 6014 non-null   object \n",
            " 15  Customer Password              6014 non-null   object \n",
            " 16  Customer Segment               6014 non-null   object \n",
            " 17  Customer State                 6014 non-null   object \n",
            " 18  Customer Street                6014 non-null   object \n",
            " 19  Customer Zipcode               6014 non-null   int64  \n",
            " 20  Department Id                  6014 non-null   int64  \n",
            " 21  Department Name                6014 non-null   object \n",
            " 22  Latitude                       6014 non-null   float64\n",
            " 23  Longitude                      6014 non-null   float64\n",
            " 24  Market                         6014 non-null   object \n",
            " 25  Order City                     6014 non-null   object \n",
            " 26  Order Country                  6014 non-null   object \n",
            " 27  Order Customer Id              6014 non-null   int64  \n",
            " 28  order date (DateOrders)        6014 non-null   object \n",
            " 29  Order Id                       6014 non-null   int64  \n",
            " 30  Order Item Cardprod Id         6014 non-null   int64  \n",
            " 31  Order Item Discount            6014 non-null   float64\n",
            " 32  Order Item Discount Rate       6014 non-null   float64\n",
            " 33  Order Item Id                  6014 non-null   int64  \n",
            " 34  Order Item Product Price       6014 non-null   float64\n",
            " 35  Order Item Profit Ratio        6014 non-null   float64\n",
            " 36  Order Item Quantity            6014 non-null   int64  \n",
            " 37  Sales                          6014 non-null   float64\n",
            " 38  Order Item Total               6014 non-null   float64\n",
            " 39  Order Profit Per Order         6014 non-null   float64\n",
            " 40  Order Region                   6014 non-null   object \n",
            " 41  Order State                    6013 non-null   object \n",
            " 42  Order Status                   6013 non-null   object \n",
            " 43  Order Zipcode                  374 non-null    float64\n",
            " 44  Product Card Id                6013 non-null   float64\n",
            " 45  Product Category Id            6013 non-null   float64\n",
            " 46  Product Description            0 non-null      float64\n",
            " 47  Product Image                  6013 non-null   object \n",
            " 48  Product Name                   6013 non-null   object \n",
            " 49  Product Price                  6013 non-null   float64\n",
            " 50  Product Status                 6013 non-null   float64\n",
            " 51  shipping date (DateOrders)     6013 non-null   object \n",
            " 52  Shipping Mode                  6013 non-null   object \n",
            "dtypes: float64(17), int64(12), object(24)\n",
            "memory usage: 2.4+ MB\n"
          ]
        }
      ]
    },
    {
      "cell_type": "code",
      "source": [
        "df.isnull().sum()"
      ],
      "metadata": {
        "colab": {
          "base_uri": "https://localhost:8080/"
        },
        "id": "nGqJycEWBsZB",
        "outputId": "9bd3edf2-8f9e-4908-faa7-bf6948a5d876"
      },
      "execution_count": null,
      "outputs": [
        {
          "output_type": "execute_result",
          "data": {
            "text/plain": [
              "Type                                0\n",
              "Days for shipping (real)            0\n",
              "Days for shipment (scheduled)       0\n",
              "Benefit per order                   0\n",
              "Sales per customer                  0\n",
              "Delivery Status                     0\n",
              "Late_delivery_risk                  0\n",
              "Category Id                         0\n",
              "Category Name                       0\n",
              "Customer City                       0\n",
              "Customer Country                    0\n",
              "Customer Email                      0\n",
              "Customer Fname                      0\n",
              "Customer Id                         0\n",
              "Customer Lname                      0\n",
              "Customer Password                   0\n",
              "Customer Segment                    0\n",
              "Customer State                      0\n",
              "Customer Street                     0\n",
              "Customer Zipcode                    0\n",
              "Department Id                       0\n",
              "Department Name                     0\n",
              "Latitude                            0\n",
              "Longitude                           0\n",
              "Market                              0\n",
              "Order City                          0\n",
              "Order Country                       0\n",
              "Order Customer Id                   0\n",
              "order date (DateOrders)             0\n",
              "Order Id                            0\n",
              "Order Item Cardprod Id              0\n",
              "Order Item Discount                 0\n",
              "Order Item Discount Rate            0\n",
              "Order Item Id                       0\n",
              "Order Item Product Price            0\n",
              "Order Item Profit Ratio             0\n",
              "Order Item Quantity                 0\n",
              "Sales                               0\n",
              "Order Item Total                    0\n",
              "Order Profit Per Order              0\n",
              "Order Region                        0\n",
              "Order State                         1\n",
              "Order Status                        1\n",
              "Order Zipcode                    5640\n",
              "Product Card Id                     1\n",
              "Product Category Id                 1\n",
              "Product Description              6014\n",
              "Product Image                       1\n",
              "Product Name                        1\n",
              "Product Price                       1\n",
              "Product Status                      1\n",
              "shipping date (DateOrders)          1\n",
              "Shipping Mode                       1\n",
              "dtype: int64"
            ]
          },
          "metadata": {},
          "execution_count": 30
        }
      ]
    },
    {
      "cell_type": "code",
      "source": [
        "df['Cust_Full_Name'] = df['Customer Fname'].astype(str) + df['Customer Lname'].astype(str)"
      ],
      "metadata": {
        "id": "5hjIPnTJBxzR"
      },
      "execution_count": null,
      "outputs": []
    },
    {
      "cell_type": "code",
      "source": [
        "df.drop(['Customer Email','Product Status','Customer Password','Customer Street','Customer Fname',\n",
        "         'Customer Lname','Latitude','Longitude','Product Description','Product Image','Order Zipcode',\n",
        "         'shipping date (DateOrders)'],axis=1, inplace = True)"
      ],
      "metadata": {
        "id": "cZH0s9sbByGJ"
      },
      "execution_count": null,
      "outputs": []
    },
    {
      "cell_type": "code",
      "source": [
        "df.shape"
      ],
      "metadata": {
        "colab": {
          "base_uri": "https://localhost:8080/"
        },
        "id": "SdKEiIsrB47e",
        "outputId": "2c62ae4c-0edb-4578-cf54-343b00a5aab0"
      },
      "execution_count": null,
      "outputs": [
        {
          "output_type": "execute_result",
          "data": {
            "text/plain": [
              "(6014, 42)"
            ]
          },
          "metadata": {},
          "execution_count": 33
        }
      ]
    },
    {
      "cell_type": "code",
      "source": [
        "df.isnull().sum()\n"
      ],
      "metadata": {
        "colab": {
          "base_uri": "https://localhost:8080/"
        },
        "id": "Qb7cC_S2B83j",
        "outputId": "f254094f-6ca2-44ef-fa8f-d13a9f3ab224"
      },
      "execution_count": null,
      "outputs": [
        {
          "output_type": "execute_result",
          "data": {
            "text/plain": [
              "Type                             0\n",
              "Days for shipping (real)         0\n",
              "Days for shipment (scheduled)    0\n",
              "Benefit per order                0\n",
              "Sales per customer               0\n",
              "Delivery Status                  0\n",
              "Late_delivery_risk               0\n",
              "Category Id                      0\n",
              "Category Name                    0\n",
              "Customer City                    0\n",
              "Customer Country                 0\n",
              "Customer Id                      0\n",
              "Customer Segment                 0\n",
              "Customer State                   0\n",
              "Customer Zipcode                 0\n",
              "Department Id                    0\n",
              "Department Name                  0\n",
              "Market                           0\n",
              "Order City                       0\n",
              "Order Country                    0\n",
              "Order Customer Id                0\n",
              "order date (DateOrders)          0\n",
              "Order Id                         0\n",
              "Order Item Cardprod Id           0\n",
              "Order Item Discount              0\n",
              "Order Item Discount Rate         0\n",
              "Order Item Id                    0\n",
              "Order Item Product Price         0\n",
              "Order Item Profit Ratio          0\n",
              "Order Item Quantity              0\n",
              "Sales                            0\n",
              "Order Item Total                 0\n",
              "Order Profit Per Order           0\n",
              "Order Region                     0\n",
              "Order State                      1\n",
              "Order Status                     1\n",
              "Product Card Id                  1\n",
              "Product Category Id              1\n",
              "Product Name                     1\n",
              "Product Price                    1\n",
              "Shipping Mode                    1\n",
              "Cust_Full_Name                   0\n",
              "dtype: int64"
            ]
          },
          "metadata": {},
          "execution_count": 34
        }
      ]
    },
    {
      "cell_type": "code",
      "source": [
        "df['Customer Zipcode'] = df['Customer Zipcode'].fillna(0)"
      ],
      "metadata": {
        "id": "OxcepTEMCB2G"
      },
      "execution_count": null,
      "outputs": []
    },
    {
      "cell_type": "code",
      "source": [
        "df['order date (DateOrders)'].head()\n"
      ],
      "metadata": {
        "colab": {
          "base_uri": "https://localhost:8080/"
        },
        "id": "zOJ-mQyTCFxw",
        "outputId": "b0610376-f990-4971-ad72-842c6088a43a"
      },
      "execution_count": null,
      "outputs": [
        {
          "output_type": "execute_result",
          "data": {
            "text/plain": [
              "0    1/31/2018 22:56\n",
              "1    1/13/2018 12:27\n",
              "2    1/13/2018 12:06\n",
              "3    1/13/2018 11:45\n",
              "4    1/13/2018 11:24\n",
              "Name: order date (DateOrders), dtype: object"
            ]
          },
          "metadata": {},
          "execution_count": 36
        }
      ]
    },
    {
      "cell_type": "code",
      "source": [
        "## Splitting Order dates and creating new columns\n",
        "df['order_yr']= pd.DatetimeIndex(df['order date (DateOrders)']).year\n",
        "df['order_month'] = pd.DatetimeIndex(df['order date (DateOrders)']).month\n",
        "df['order_day'] = pd.DatetimeIndex(df['order date (DateOrders)']).weekday\n",
        "df['order_hour'] = pd.DatetimeIndex(df['order date (DateOrders)']).hour"
      ],
      "metadata": {
        "id": "nYryBECOCJgD"
      },
      "execution_count": null,
      "outputs": []
    },
    {
      "cell_type": "code",
      "source": [
        "plt.style.use(\"dark_background\")\n",
        "fig, ax = plt.subplots(figsize=(25,10))         # figsize\n",
        "sns.heatmap(df.corr(),annot=True, linewidths=.3 ,fmt='.1g', cmap= 'coolwarm')"
      ],
      "metadata": {
        "colab": {
          "base_uri": "https://localhost:8080/",
          "height": 1000
        },
        "id": "lK2miN_9CRZk",
        "outputId": "d8179b13-15ca-4a18-bd2e-02e86bfd7d3f"
      },
      "execution_count": null,
      "outputs": [
        {
          "output_type": "stream",
          "name": "stderr",
          "text": [
            "<ipython-input-38-72df4396ecf7>:3: FutureWarning:\n",
            "\n",
            "The default value of numeric_only in DataFrame.corr is deprecated. In a future version, it will default to False. Select only valid columns or specify the value of numeric_only to silence this warning.\n",
            "\n"
          ]
        },
        {
          "output_type": "execute_result",
          "data": {
            "text/plain": [
              "<Axes: >"
            ]
          },
          "metadata": {},
          "execution_count": 38
        },
        {
          "output_type": "display_data",
          "data": {
            "text/plain": [
              "<Figure size 2500x1000 with 2 Axes>"
            ],
            "image/png": "[encoded data removed]"
          },
          "metadata": {}
        }
      ]
    },
    {
      "cell_type": "code",
      "source": [
        "loss = df[(df['Benefit per order']<0)]"
      ],
      "metadata": {
        "id": "ihTQ3KjiCWGO"
      },
      "execution_count": null,
      "outputs": []
    },
    {
      "cell_type": "code",
      "source": [
        "plt.figure(1)\n",
        "loss['Category Name'].value_counts().nlargest(10).plot.bar(figsize=(15,7), title=\"Most Loss Making Products\")\n",
        "plt.xticks(rotation = 45)\n",
        "plt.figure(2)\n",
        "loss['Market'].value_counts().nlargest(10).plot.bar(figsize=(15,7), title=\"Most Loss Making Market\")\n",
        "plt.xticks(rotation = 45)"
      ],
      "metadata": {
        "colab": {
          "base_uri": "https://localhost:8080/",
          "height": 1000
        },
        "id": "IiMsKkW-CbN-",
        "outputId": "989c2807-a175-49d6-b1d7-42e374b42c56"
      },
      "execution_count": null,
      "outputs": [
        {
          "output_type": "execute_result",
          "data": {
            "text/plain": [
              "(array([0, 1, 2, 3, 4]),\n",
              " [Text(0, 0, 'Pacific Asia'),\n",
              "  Text(1, 0, 'LATAM'),\n",
              "  Text(2, 0, 'Europe'),\n",
              "  Text(3, 0, 'USCA'),\n",
              "  Text(4, 0, 'Africa')])"
            ]
          },
          "metadata": {},
          "execution_count": 40
        },
        {
          "output_type": "display_data",
          "data": {
            "text/plain": [
              "<Figure size 1500x700 with 1 Axes>"
            ],
            "image/png": "[encoded data removed]"
          },
          "metadata": {}
        },
        {
          "output_type": "display_data",
          "data": {
            "text/plain": [
              "<Figure size 1500x700 with 1 Axes>"
            ],
            "image/png": "[encoded data removed]"
          },
          "metadata": {}
        }
      ]
    },
    {
      "cell_type": "code",
      "source": [
        "status = df.groupby('Type')['Order Status'].value_counts()\n",
        "status_df = status.to_frame()"
      ],
      "metadata": {
        "id": "eqGbOpfYCfit"
      },
      "execution_count": null,
      "outputs": []
    },
    {
      "cell_type": "code",
      "source": [
        "status_df\n"
      ],
      "metadata": {
        "colab": {
          "base_uri": "https://localhost:8080/",
          "height": 363
        },
        "id": "937ciDnQClHw",
        "outputId": "c4ef3822-f838-4078-827f-9bbfcadb20a4"
      },
      "execution_count": null,
      "outputs": [
        {
          "output_type": "execute_result",
          "data": {
            "text/plain": [
              "                          Order Status\n",
              "Type     Order Status                 \n",
              "CASH     CLOSED                    764\n",
              "DEBIT    COMPLETE                 2091\n",
              "         ON_HOLD                   345\n",
              "PAYMENT  PENDING_PAYMENT           864\n",
              "         PAYMENT_REVIEW             35\n",
              "TRANSFER PROCESSING                860\n",
              "         PENDING                   732\n",
              "         SUSPECTED_FRAUD           185\n",
              "         CANCELED                  137"
            ],
            "text/html": [
              "\n",
              "  <div id=\"df-991e7df6-874b-44d7-ae67-52cf4615c67e\" class=\"colab-df-container\">\n",
              "    <div>\n",
              "<style scoped>\n",
              "    .dataframe tbody tr th:only-of-type {\n",
              "        vertical-align: middle;\n",
              "    }\n",
              "\n",
              "    .dataframe tbody tr th {\n",
              "        vertical-align: top;\n",
              "    }\n",
              "\n",
              "    .dataframe thead th {\n",
              "        text-align: right;\n",
              "    }\n",
              "</style>\n",
              "<table border=\"1\" class=\"dataframe\">\n",
              "  <thead>\n",
              "    <tr style=\"text-align: right;\">\n",
              "      <th></th>\n",
              "      <th></th>\n",
              "      <th>Order Status</th>\n",
              "    </tr>\n",
              "    <tr>\n",
              "      <th>Type</th>\n",
              "      <th>Order Status</th>\n",
              "      <th></th>\n",
              "    </tr>\n",
              "  </thead>\n",
              "  <tbody>\n",
              "    <tr>\n",
              "      <th>CASH</th>\n",
              "      <th>CLOSED</th>\n",
              "      <td>764</td>\n",
              "    </tr>\n",
              "    <tr>\n",
              "      <th rowspan=\"2\" valign=\"top\">DEBIT</th>\n",
              "      <th>COMPLETE</th>\n",
              "      <td>2091</td>\n",
              "    </tr>\n",
              "    <tr>\n",
              "      <th>ON_HOLD</th>\n",
              "      <td>345</td>\n",
              "    </tr>\n",
              "    <tr>\n",
              "      <th rowspan=\"2\" valign=\"top\">PAYMENT</th>\n",
              "      <th>PENDING_PAYMENT</th>\n",
              "      <td>864</td>\n",
              "    </tr>\n",
              "    <tr>\n",
              "      <th>PAYMENT_REVIEW</th>\n",
              "      <td>35</td>\n",
              "    </tr>\n",
              "    <tr>\n",
              "      <th rowspan=\"4\" valign=\"top\">TRANSFER</th>\n",
              "      <th>PROCESSING</th>\n",
              "      <td>860</td>\n",
              "    </tr>\n",
              "    <tr>\n",
              "      <th>PENDING</th>\n",
              "      <td>732</td>\n",
              "    </tr>\n",
              "    <tr>\n",
              "      <th>SUSPECTED_FRAUD</th>\n",
              "      <td>185</td>\n",
              "    </tr>\n",
              "    <tr>\n",
              "      <th>CANCELED</th>\n",
              "      <td>137</td>\n",
              "    </tr>\n",
              "  </tbody>\n",
              "</table>\n",
              "</div>\n",
              "    <div class=\"colab-df-buttons\">\n",
              "\n",
              "  <div class=\"colab-df-container\">\n",
              "    <button class=\"colab-df-convert\" onclick=\"convertToInteractive('df-991e7df6-874b-44d7-ae67-52cf4615c67e')\"\n",
              "            title=\"Convert this dataframe to an interactive table.\"\n",
              "            style=\"display:none;\">\n",
              "\n",
              "  <svg xmlns=\"http://www.w3.org/2000/svg\" height=\"24px\" viewBox=\"0 -960 960 960\">\n",
              "    <path d=\"M120-120v-720h720v720H120Zm60-500h600v-160H180v160Zm220 220h160v-160H400v160Zm0 220h160v-160H400v160ZM180-400h160v-160H180v160Zm440 0h160v-160H620v160ZM180-180h160v-160H180v160Zm440 0h160v-160H620v160Z\"/>\n",
              "  </svg>\n",
              "    </button>\n",
              "\n",
              "  <style>\n",
              "    .colab-df-container {\n",
              "      display:flex;\n",
              "      gap: 12px;\n",
              "    }\n",
              "\n",
              "    .colab-df-convert {\n",
              "      background-color: #E8F0FE;\n",
              "      border: none;\n",
              "      border-radius: 50%;\n",
              "      cursor: pointer;\n",
              "      display: none;\n",
              "      fill: #1967D2;\n",
              "      height: 32px;\n",
              "      padding: 0 0 0 0;\n",
              "      width: 32px;\n",
              "    }\n",
              "\n",
              "    .colab-df-convert:hover {\n",
              "      background-color: #E2EBFA;\n",
              "      box-shadow: 0px 1px 2px rgba(60, 64, 67, 0.3), 0px 1px 3px 1px rgba(60, 64, 67, 0.15);\n",
              "      fill: #174EA6;\n",
              "    }\n",
              "\n",
              "    .colab-df-buttons div {\n",
              "      margin-bottom: 4px;\n",
              "    }\n",
              "\n",
              "    [theme=dark] .colab-df-convert {\n",
              "      background-color: #3B4455;\n",
              "      fill: #D2E3FC;\n",
              "    }\n",
              "\n",
              "    [theme=dark] .colab-df-convert:hover {\n",
              "      background-color: #434B5C;\n",
              "      box-shadow: 0px 1px 3px 1px rgba(0, 0, 0, 0.15);\n",
              "      filter: drop-shadow(0px 1px 2px rgba(0, 0, 0, 0.3));\n",
              "      fill: #FFFFFF;\n",
              "    }\n",
              "  </style>\n",
              "\n",
              "    <script>\n",
              "      const buttonEl =\n",
              "        document.querySelector('#df-991e7df6-874b-44d7-ae67-52cf4615c67e button.colab-df-convert');\n",
              "      buttonEl.style.display =\n",
              "        google.colab.kernel.accessAllowed ? 'block' : 'none';\n",
              "\n",
              "      async function convertToInteractive(key) {\n",
              "        const element = document.querySelector('#df-991e7df6-874b-44d7-ae67-52cf4615c67e');\n",
              "        const dataTable =\n",
              "          await google.colab.kernel.invokeFunction('convertToInteractive',\n",
              "                                                    [key], {});\n",
              "        if (!dataTable) return;\n",
              "\n",
              "        const docLinkHtml = 'Like what you see? Visit the ' +\n",
              "          '<a target=\"_blank\" href=https://colab.research.google.com/notebooks/data_table.ipynb>data table notebook</a>'\n",
              "          + ' to learn more about interactive tables.';\n",
              "        element.innerHTML = '';\n",
              "        dataTable['output_type'] = 'display_data';\n",
              "        await google.colab.output.renderOutput(dataTable, element);\n",
              "        const docLink = document.createElement('div');\n",
              "        docLink.innerHTML = docLinkHtml;\n",
              "        element.appendChild(docLink);\n",
              "      }\n",
              "    </script>\n",
              "  </div>\n",
              "\n",
              "\n",
              "<div id=\"df-4c4e9817-5e9e-4c5a-91a5-a67f653301b2\">\n",
              "  <button class=\"colab-df-quickchart\" onclick=\"quickchart('df-4c4e9817-5e9e-4c5a-91a5-a67f653301b2')\"\n",
              "            title=\"Suggest charts.\"\n",
              "            style=\"display:none;\">\n",
              "\n",
              "<svg xmlns=\"http://www.w3.org/2000/svg\" height=\"24px\"viewBox=\"0 0 24 24\"\n",
              "     width=\"24px\">\n",
              "    <g>\n",
              "        <path d=\"M19 3H5c-1.1 0-2 .9-2 2v14c0 1.1.9 2 2 2h14c1.1 0 2-.9 2-2V5c0-1.1-.9-2-2-2zM9 17H7v-7h2v7zm4 0h-2V7h2v10zm4 0h-2v-4h2v4z\"/>\n",
              "    </g>\n",
              "</svg>\n",
              "  </button>\n",
              "\n",
              "<style>\n",
              "  .colab-df-quickchart {\n",
              "      --bg-color: #E8F0FE;\n",
              "      --fill-color: #1967D2;\n",
              "      --hover-bg-color: #E2EBFA;\n",
              "      --hover-fill-color: #174EA6;\n",
              "      --disabled-fill-color: #AAA;\n",
              "      --disabled-bg-color: #DDD;\n",
              "  }\n",
              "\n",
              "  [theme=dark] .colab-df-quickchart {\n",
              "      --bg-color: #3B4455;\n",
              "      --fill-color: #D2E3FC;\n",
              "      --hover-bg-color: #434B5C;\n",
              "      --hover-fill-color: #FFFFFF;\n",
              "      --disabled-bg-color: #3B4455;\n",
              "      --disabled-fill-color: #666;\n",
              "  }\n",
              "\n",
              "  .colab-df-quickchart {\n",
              "    background-color: var(--bg-color);\n",
              "    border: none;\n",
              "    border-radius: 50%;\n",
              "    cursor: pointer;\n",
              "    display: none;\n",
              "    fill: var(--fill-color);\n",
              "    height: 32px;\n",
              "    padding: 0;\n",
              "    width: 32px;\n",
              "  }\n",
              "\n",
              "  .colab-df-quickchart:hover {\n",
              "    background-color: var(--hover-bg-color);\n",
              "    box-shadow: 0 1px 2px rgba(60, 64, 67, 0.3), 0 1px 3px 1px rgba(60, 64, 67, 0.15);\n",
              "    fill: var(--button-hover-fill-color);\n",
              "  }\n",
              "\n",
              "  .colab-df-quickchart-complete:disabled,\n",
              "  .colab-df-quickchart-complete:disabled:hover {\n",
              "    background-color: var(--disabled-bg-color);\n",
              "    fill: var(--disabled-fill-color);\n",
              "    box-shadow: none;\n",
              "  }\n",
              "\n",
              "  .colab-df-spinner {\n",
              "    border: 2px solid var(--fill-color);\n",
              "    border-color: transparent;\n",
              "    border-bottom-color: var(--fill-color);\n",
              "    animation:\n",
              "      spin 1s steps(1) infinite;\n",
              "  }\n",
              "\n",
              "  @keyframes spin {\n",
              "    0% {\n",
              "      border-color: transparent;\n",
              "      border-bottom-color: var(--fill-color);\n",
              "      border-left-color: var(--fill-color);\n",
              "    }\n",
              "    20% {\n",
              "      border-color: transparent;\n",
              "      border-left-color: var(--fill-color);\n",
              "      border-top-color: var(--fill-color);\n",
              "    }\n",
              "    30% {\n",
              "      border-color: transparent;\n",
              "      border-left-color: var(--fill-color);\n",
              "      border-top-color: var(--fill-color);\n",
              "      border-right-color: var(--fill-color);\n",
              "    }\n",
              "    40% {\n",
              "      border-color: transparent;\n",
              "      border-right-color: var(--fill-color);\n",
              "      border-top-color: var(--fill-color);\n",
              "    }\n",
              "    60% {\n",
              "      border-color: transparent;\n",
              "      border-right-color: var(--fill-color);\n",
              "    }\n",
              "    80% {\n",
              "      border-color: transparent;\n",
              "      border-right-color: var(--fill-color);\n",
              "      border-bottom-color: var(--fill-color);\n",
              "    }\n",
              "    90% {\n",
              "      border-color: transparent;\n",
              "      border-bottom-color: var(--fill-color);\n",
              "    }\n",
              "  }\n",
              "</style>\n",
              "\n",
              "  <script>\n",
              "    async function quickchart(key) {\n",
              "      const quickchartButtonEl =\n",
              "        document.querySelector('#' + key + ' button');\n",
              "      quickchartButtonEl.disabled = true;  // To prevent multiple clicks.\n",
              "      quickchartButtonEl.classList.add('colab-df-spinner');\n",
              "      try {\n",
              "        const charts = await google.colab.kernel.invokeFunction(\n",
              "            'suggestCharts', [key], {});\n",
              "      } catch (error) {\n",
              "        console.error('Error during call to suggestCharts:', error);\n",
              "      }\n",
              "      quickchartButtonEl.classList.remove('colab-df-spinner');\n",
              "      quickchartButtonEl.classList.add('colab-df-quickchart-complete');\n",
              "    }\n",
              "    (() => {\n",
              "      let quickchartButtonEl =\n",
              "        document.querySelector('#df-4c4e9817-5e9e-4c5a-91a5-a67f653301b2 button');\n",
              "      quickchartButtonEl.style.display =\n",
              "        google.colab.kernel.accessAllowed ? 'block' : 'none';\n",
              "    })();\n",
              "  </script>\n",
              "</div>\n",
              "    </div>\n",
              "  </div>\n"
            ]
          },
          "metadata": {},
          "execution_count": 42
        }
      ]
    },
    {
      "cell_type": "code",
      "source": [
        "fraud_region = df[(df['Order Status'] == 'SUSPECTED_FRAUD')]"
      ],
      "metadata": {
        "id": "UBLRT1tnCpVX"
      },
      "execution_count": null,
      "outputs": []
    },
    {
      "cell_type": "code",
      "source": [
        "plt.style.use(\"dark_background\")\n",
        "temp = fraud_region['Category Name'].value_counts().nlargest(10)\n",
        "temp.iplot(kind='bar', xTitle = 'Category', yTitle = \"Count\", title = 'Count of Products with suspected fraud', color = '#FF0000')"
      ],
      "metadata": {
        "colab": {
          "base_uri": "https://localhost:8080/",
          "height": 542
        },
        "id": "3gIj_dIaCvLZ",
        "outputId": "21370457-74ac-4f3f-dd67-21ea344883c3"
      },
      "execution_count": null,
      "outputs": [
        {
          "output_type": "display_data",
          "data": {
            "application/vnd.plotly.v1+json": {
              "data": [
                {
                  "marker": {
                    "color": "rgba(255, 0, 0, 0.6)",
                    "line": {
                      "color": "rgba(255, 0, 0, 1.0)",
                      "width": 1
                    }
                  },
                  "name": "Category Name",
                  "orientation": "v",
                  "text": "",
                  "x": [
                    "Cleats",
                    "Women's Apparel",
                    "Shop By Sport",
                    "Cardio Equipment",
                    "Sporting Goods",
                    "Hockey",
                    "Electronics",
                    "Girls' Apparel",
                    "Accessories",
                    "Trade-In"
                  ],
                  "y": [
                    51,
                    39,
                    24,
                    23,
                    12,
                    12,
                    11,
                    4,
                    3,
                    2
                  ],
                  "type": "bar"
                }
              ],
              "layout": {
                "legend": {
                  "bgcolor": "#F5F6F9",
                  "font": {
                    "color": "#4D5663"
                  }
                },
                "paper_bgcolor": "#F5F6F9",
                "plot_bgcolor": "#F5F6F9",
                "template": {
                  "data": {
                    "barpolar": [
                      {
                        "marker": {
                          "line": {
                            "color": "#E5ECF6",
                            "width": 0.5
                          },
                          "pattern": {
                            "fillmode": "overlay",
                            "size": 10,
                            "solidity": 0.2
                          }
                        },
                        "type": "barpolar"
                      }
                    ],
                    "bar": [
                      {
                        "error_x": {
                          "color": "#2a3f5f"
                        },
                        "error_y": {
                          "color": "#2a3f5f"
                        },
                        "marker": {
                          "line": {
                            "color": "#E5ECF6",
                            "width": 0.5
                          },
                          "pattern": {
                            "fillmode": "overlay",
                            "size": 10,
                            "solidity": 0.2
                          }
                        },
                        "type": "bar"
                      }
                    ],
                    "carpet": [
                      {
                        "aaxis": {
                          "endlinecolor": "#2a3f5f",
                          "gridcolor": "white",
                          "linecolor": "white",
                          "minorgridcolor": "white",
                          "startlinecolor": "#2a3f5f"
                        },
                        "baxis": {
                          "endlinecolor": "#2a3f5f",
                          "gridcolor": "white",
                          "linecolor": "white",
                          "minorgridcolor": "white",
                          "startlinecolor": "#2a3f5f"
                        },
                        "type": "carpet"
                      }
                    ],
                    "choropleth": [
                      {
                        "colorbar": {
                          "outlinewidth": 0,
                          "ticks": ""
                        },
                        "type": "choropleth"
                      }
                    ],
                    "contourcarpet": [
                      {
                        "colorbar": {
                          "outlinewidth": 0,
                          "ticks": ""
                        },
                        "type": "contourcarpet"
                      }
                    ],
                    "contour": [
                      {
                        "colorbar": {
                          "outlinewidth": 0,
                          "ticks": ""
                        },
                        "colorscale": [
                          [
                            0,
                            "#0d0887"
                          ],
                          [
                            0.1111111111111111,
                            "#46039f"
                          ],
                          [
                            0.2222222222222222,
                            "#7201a8"
                          ],
                          [
                            0.3333333333333333,
                            "#9c179e"
                          ],
                          [
                            0.4444444444444444,
                            "#bd3786"
                          ],
                          [
                            0.5555555555555556,
                            "#d8576b"
                          ],
                          [
                            0.6666666666666666,
                            "#ed7953"
                          ],
                          [
                            0.7777777777777778,
                            "#fb9f3a"
                          ],
                          [
                            0.8888888888888888,
                            "#fdca26"
                          ],
                          [
                            1,
                            "#f0f921"
                          ]
                        ],
                        "type": "contour"
                      }
                    ],
                    "heatmapgl": [
                      {
                        "colorbar": {
                          "outlinewidth": 0,
                          "ticks": ""
                        },
                        "colorscale": [
                          [
                            0,
                            "#0d0887"
                          ],
                          [
                            0.1111111111111111,
                            "#46039f"
                          ],
                          [
                            0.2222222222222222,
                            "#7201a8"
                          ],
                          [
                            0.3333333333333333,
                            "#9c179e"
                          ],
                          [
                            0.4444444444444444,
                            "#bd3786"
                          ],
                          [
                            0.5555555555555556,
                            "#d8576b"
                          ],
                          [
                            0.6666666666666666,
                            "#ed7953"
                          ],
                          [
                            0.7777777777777778,
                            "#fb9f3a"
                          ],
                          [
                            0.8888888888888888,
                            "#fdca26"
                          ],
                          [
                            1,
                            "#f0f921"
                          ]
                        ],
                        "type": "heatmapgl"
                      }
                    ],
                    "heatmap": [
                      {
                        "colorbar": {
                          "outlinewidth": 0,
                          "ticks": ""
                        },
                        "colorscale": [
                          [
                            0,
                            "#0d0887"
                          ],
                          [
                            0.1111111111111111,
                            "#46039f"
                          ],
                          [
                            0.2222222222222222,
                            "#7201a8"
                          ],
                          [
                            0.3333333333333333,
                            "#9c179e"
                          ],
                          [
                            0.4444444444444444,
                            "#bd3786"
                          ],
                          [
                            0.5555555555555556,
                            "#d8576b"
                          ],
                          [
                            0.6666666666666666,
                            "#ed7953"
                          ],
                          [
                            0.7777777777777778,
                            "#fb9f3a"
                          ],
                          [
                            0.8888888888888888,
                            "#fdca26"
                          ],
                          [
                            1,
                            "#f0f921"
                          ]
                        ],
                        "type": "heatmap"
                      }
                    ],
                    "histogram2dcontour": [
                      {
                        "colorbar": {
                          "outlinewidth": 0,
                          "ticks": ""
                        },
                        "colorscale": [
                          [
                            0,
                            "#0d0887"
                          ],
                          [
                            0.1111111111111111,
                            "#46039f"
                          ],
                          [
                            0.2222222222222222,
                            "#7201a8"
                          ],
                          [
                            0.3333333333333333,
                            "#9c179e"
                          ],
                          [
                            0.4444444444444444,
                            "#bd3786"
                          ],
                          [
                            0.5555555555555556,
                            "#d8576b"
                          ],
                          [
                            0.6666666666666666,
                            "#ed7953"
                          ],
                          [
                            0.7777777777777778,
                            "#fb9f3a"
                          ],
                          [
                            0.8888888888888888,
                            "#fdca26"
                          ],
                          [
                            1,
                            "#f0f921"
                          ]
                        ],
                        "type": "histogram2dcontour"
                      }
                    ],
                    "histogram2d": [
                      {
                        "colorbar": {
                          "outlinewidth": 0,
                          "ticks": ""
                        },
                        "colorscale": [
                          [
                            0,
                            "#0d0887"
                          ],
                          [
                            0.1111111111111111,
                            "#46039f"
                          ],
                          [
                            0.2222222222222222,
                            "#7201a8"
                          ],
                          [
                            0.3333333333333333,
                            "#9c179e"
                          ],
                          [
                            0.4444444444444444,
                            "#bd3786"
                          ],
                          [
                            0.5555555555555556,
                            "#d8576b"
                          ],
                          [
                            0.6666666666666666,
                            "#ed7953"
                          ],
                          [
                            0.7777777777777778,
                            "#fb9f3a"
                          ],
                          [
                            0.8888888888888888,
                            "#fdca26"
                          ],
                          [
                            1,
                            "#f0f921"
                          ]
                        ],
                        "type": "histogram2d"
                      }
                    ],
                    "histogram": [
                      {
                        "marker": {
                          "pattern": {
                            "fillmode": "overlay",
                            "size": 10,
                            "solidity": 0.2
                          }
                        },
                        "type": "histogram"
                      }
                    ],
                    "mesh3d": [
                      {
                        "colorbar": {
                          "outlinewidth": 0,
                          "ticks": ""
                        },
                        "type": "mesh3d"
                      }
                    ],
                    "parcoords": [
                      {
                        "line": {
                          "colorbar": {
                            "outlinewidth": 0,
                            "ticks": ""
                          }
                        },
                        "type": "parcoords"
                      }
                    ],
                    "pie": [
                      {
                        "automargin": true,
                        "type": "pie"
                      }
                    ],
                    "scatter3d": [
                      {
                        "line": {
                          "colorbar": {
                            "outlinewidth": 0,
                            "ticks": ""
                          }
                        },
                        "marker": {
                          "colorbar": {
                            "outlinewidth": 0,
                            "ticks": ""
                          }
                        },
                        "type": "scatter3d"
                      }
                    ],
                    "scattercarpet": [
                      {
                        "marker": {
                          "colorbar": {
                            "outlinewidth": 0,
                            "ticks": ""
                          }
                        },
                        "type": "scattercarpet"
                      }
                    ],
                    "scattergeo": [
                      {
                        "marker": {
                          "colorbar": {
                            "outlinewidth": 0,
                            "ticks": ""
                          }
                        },
                        "type": "scattergeo"
                      }
                    ],
                    "scattergl": [
                      {
                        "marker": {
                          "colorbar": {
                            "outlinewidth": 0,
                            "ticks": ""
                          }
                        },
                        "type": "scattergl"
                      }
                    ],
                    "scattermapbox": [
                      {
                        "marker": {
                          "colorbar": {
                            "outlinewidth": 0,
                            "ticks": ""
                          }
                        },
                        "type": "scattermapbox"
                      }
                    ],
                    "scatterpolargl": [
                      {
                        "marker": {
                          "colorbar": {
                            "outlinewidth": 0,
                            "ticks": ""
                          }
                        },
                        "type": "scatterpolargl"
                      }
                    ],
                    "scatterpolar": [
                      {
                        "marker": {
                          "colorbar": {
                            "outlinewidth": 0,
                            "ticks": ""
                          }
                        },
                        "type": "scatterpolar"
                      }
                    ],
                    "scatter": [
                      {
                        "fillpattern": {
                          "fillmode": "overlay",
                          "size": 10,
                          "solidity": 0.2
                        },
                        "type": "scatter"
                      }
                    ],
                    "scatterternary": [
                      {
                        "marker": {
                          "colorbar": {
                            "outlinewidth": 0,
                            "ticks": ""
                          }
                        },
                        "type": "scatterternary"
                      }
                    ],
                    "surface": [
                      {
                        "colorbar": {
                          "outlinewidth": 0,
                          "ticks": ""
                        },
                        "colorscale": [
                          [
                            0,
                            "#0d0887"
                          ],
                          [
                            0.1111111111111111,
                            "#46039f"
                          ],
                          [
                            0.2222222222222222,
                            "#7201a8"
                          ],
                          [
                            0.3333333333333333,
                            "#9c179e"
                          ],
                          [
                            0.4444444444444444,
                            "#bd3786"
                          ],
                          [
                            0.5555555555555556,
                            "#d8576b"
                          ],
                          [
                            0.6666666666666666,
                            "#ed7953"
                          ],
                          [
                            0.7777777777777778,
                            "#fb9f3a"
                          ],
                          [
                            0.8888888888888888,
                            "#fdca26"
                          ],
                          [
                            1,
                            "#f0f921"
                          ]
                        ],
                        "type": "surface"
                      }
                    ],
                    "table": [
                      {
                        "cells": {
                          "fill": {
                            "color": "#EBF0F8"
                          },
                          "line": {
                            "color": "white"
                          }
                        },
                        "header": {
                          "fill": {
                            "color": "#C8D4E3"
                          },
                          "line": {
                            "color": "white"
                          }
                        },
                        "type": "table"
                      }
                    ]
                  },
                  "layout": {
                    "annotationdefaults": {
                      "arrowcolor": "#2a3f5f",
                      "arrowhead": 0,
                      "arrowwidth": 1
                    },
                    "autotypenumbers": "strict",
                    "coloraxis": {
                      "colorbar": {
                        "outlinewidth": 0,
                        "ticks": ""
                      }
                    },
                    "colorscale": {
                      "diverging": [
                        [
                          0,
                          "#8e0152"
                        ],
                        [
                          0.1,
                          "#c51b7d"
                        ],
                        [
                          0.2,
                          "#de77ae"
                        ],
                        [
                          0.3,
                          "#f1b6da"
                        ],
                        [
                          0.4,
                          "#fde0ef"
                        ],
                        [
                          0.5,
                          "#f7f7f7"
                        ],
                        [
                          0.6,
                          "#e6f5d0"
                        ],
                        [
                          0.7,
                          "#b8e186"
                        ],
                        [
                          0.8,
                          "#7fbc41"
                        ],
                        [
                          0.9,
                          "#4d9221"
                        ],
                        [
                          1,
                          "#276419"
                        ]
                      ],
                      "sequential": [
                        [
                          0,
                          "#0d0887"
                        ],
                        [
                          0.1111111111111111,
                          "#46039f"
                        ],
                        [
                          0.2222222222222222,
                          "#7201a8"
                        ],
                        [
                          0.3333333333333333,
                          "#9c179e"
                        ],
                        [
                          0.4444444444444444,
                          "#bd3786"
                        ],
                        [
                          0.5555555555555556,
                          "#d8576b"
                        ],
                        [
                          0.6666666666666666,
                          "#ed7953"
                        ],
                        [
                          0.7777777777777778,
                          "#fb9f3a"
                        ],
                        [
                          0.8888888888888888,
                          "#fdca26"
                        ],
                        [
                          1,
                          "#f0f921"
                        ]
                      ],
                      "sequentialminus": [
                        [
                          0,
                          "#0d0887"
                        ],
                        [
                          0.1111111111111111,
                          "#46039f"
                        ],
                        [
                          0.2222222222222222,
                          "#7201a8"
                        ],
                        [
                          0.3333333333333333,
                          "#9c179e"
                        ],
                        [
                          0.4444444444444444,
                          "#bd3786"
                        ],
                        [
                          0.5555555555555556,
                          "#d8576b"
                        ],
                        [
                          0.6666666666666666,
                          "#ed7953"
                        ],
                        [
                          0.7777777777777778,
                          "#fb9f3a"
                        ],
                        [
                          0.8888888888888888,
                          "#fdca26"
                        ],
                        [
                          1,
                          "#f0f921"
                        ]
                      ]
                    },
                    "colorway": [
                      "#636efa",
                      "#EF553B",
                      "#00cc96",
                      "#ab63fa",
                      "#FFA15A",
                      "#19d3f3",
                      "#FF6692",
                      "#B6E880",
                      "#FF97FF",
                      "#FECB52"
                    ],
                    "font": {
                      "color": "#2a3f5f"
                    },
                    "geo": {
                      "bgcolor": "white",
                      "lakecolor": "white",
                      "landcolor": "#E5ECF6",
                      "showlakes": true,
                      "showland": true,
                      "subunitcolor": "white"
                    },
                    "hoverlabel": {
                      "align": "left"
                    },
                    "hovermode": "closest",
                    "mapbox": {
                      "style": "light"
                    },
                    "paper_bgcolor": "white",
                    "plot_bgcolor": "#E5ECF6",
                    "polar": {
                      "angularaxis": {
                        "gridcolor": "white",
                        "linecolor": "white",
                        "ticks": ""
                      },
                      "bgcolor": "#E5ECF6",
                      "radialaxis": {
                        "gridcolor": "white",
                        "linecolor": "white",
                        "ticks": ""
                      }
                    },
                    "scene": {
                      "xaxis": {
                        "backgroundcolor": "#E5ECF6",
                        "gridcolor": "white",
                        "gridwidth": 2,
                        "linecolor": "white",
                        "showbackground": true,
                        "ticks": "",
                        "zerolinecolor": "white"
                      },
                      "yaxis": {
                        "backgroundcolor": "#E5ECF6",
                        "gridcolor": "white",
                        "gridwidth": 2,
                        "linecolor": "white",
                        "showbackground": true,
                        "ticks": "",
                        "zerolinecolor": "white"
                      },
                      "zaxis": {
                        "backgroundcolor": "#E5ECF6",
                        "gridcolor": "white",
                        "gridwidth": 2,
                        "linecolor": "white",
                        "showbackground": true,
                        "ticks": "",
                        "zerolinecolor": "white"
                      }
                    },
                    "shapedefaults": {
                      "line": {
                        "color": "#2a3f5f"
                      }
                    },
                    "ternary": {
                      "aaxis": {
                        "gridcolor": "white",
                        "linecolor": "white",
                        "ticks": ""
                      },
                      "baxis": {
                        "gridcolor": "white",
                        "linecolor": "white",
                        "ticks": ""
                      },
                      "bgcolor": "#E5ECF6",
                      "caxis": {
                        "gridcolor": "white",
                        "linecolor": "white",
                        "ticks": ""
                      }
                    },
                    "title": {
                      "x": 0.05
                    },
                    "xaxis": {
                      "automargin": true,
                      "gridcolor": "white",
                      "linecolor": "white",
                      "ticks": "",
                      "title": {
                        "standoff": 15
                      },
                      "zerolinecolor": "white",
                      "zerolinewidth": 2
                    },
                    "yaxis": {
                      "automargin": true,
                      "gridcolor": "white",
                      "linecolor": "white",
                      "ticks": "",
                      "title": {
                        "standoff": 15
                      },
                      "zerolinecolor": "white",
                      "zerolinewidth": 2
                    }
                  }
                },
                "title": {
                  "font": {
                    "color": "#4D5663"
                  },
                  "text": "Count of Products with suspected fraud"
                },
                "xaxis": {
                  "gridcolor": "#E1E5ED",
                  "showgrid": true,
                  "tickfont": {
                    "color": "#4D5663"
                  },
                  "title": {
                    "font": {
                      "color": "#4D5663"
                    },
                    "text": "Category"
                  },
                  "zerolinecolor": "#E1E5ED"
                },
                "yaxis": {
                  "gridcolor": "#E1E5ED",
                  "showgrid": true,
                  "tickfont": {
                    "color": "#4D5663"
                  },
                  "title": {
                    "font": {
                      "color": "#4D5663"
                    },
                    "text": "Count"
                  },
                  "zerolinecolor": "#E1E5ED"
                }
              },
              "config": {
                "showLink": true,
                "linkText": "Export to plot.ly",
                "plotlyServerURL": "https://plot.ly"
              }
            },
            "text/html": [
              "<div>                            <div id=\"f53294b7-0345-4662-8d2c-47feda09b701\" class=\"plotly-graph-div\" style=\"height:525px; width:100%;\"></div>            <script type=\"text/javascript\">                require([\"plotly\"], function(Plotly) {                    window.PLOTLYENV=window.PLOTLYENV || {};\n",
              "                    window.PLOTLYENV.BASE_URL='https://plot.ly';                                    if (document.getElementById(\"f53294b7-0345-4662-8d2c-47feda09b701\")) {                    Plotly.newPlot(                        \"f53294b7-0345-4662-8d2c-47feda09b701\",                        [{\"marker\":{\"color\":\"rgba(255, 0, 0, 0.6)\",\"line\":{\"color\":\"rgba(255, 0, 0, 1.0)\",\"width\":1}},\"name\":\"Category Name\",\"orientation\":\"v\",\"text\":\"\",\"x\":[\"Cleats\",\"Women's Apparel\",\"Shop By Sport\",\"Cardio Equipment\",\"Sporting Goods\",\"Hockey\",\"Electronics\",\"Girls' Apparel\",\"Accessories\",\"Trade-In\"],\"y\":[51,39,24,23,12,12,11,4,3,2],\"type\":\"bar\"}],                        {\"legend\":{\"bgcolor\":\"#F5F6F9\",\"font\":{\"color\":\"#4D5663\"}},\"paper_bgcolor\":\"#F5F6F9\",\"plot_bgcolor\":\"#F5F6F9\",\"template\":{\"data\":{\"barpolar\":[{\"marker\":{\"line\":{\"color\":\"#E5ECF6\",\"width\":0.5},\"pattern\":{\"fillmode\":\"overlay\",\"size\":10,\"solidity\":0.2}},\"type\":\"barpolar\"}],\"bar\":[{\"error_x\":{\"color\":\"#2a3f5f\"},\"error_y\":{\"color\":\"#2a3f5f\"},\"marker\":{\"line\":{\"color\":\"#E5ECF6\",\"width\":0.5},\"pattern\":{\"fillmode\":\"overlay\",\"size\":10,\"solidity\":0.2}},\"type\":\"bar\"}],\"carpet\":[{\"aaxis\":{\"endlinecolor\":\"#2a3f5f\",\"gridcolor\":\"white\",\"linecolor\":\"white\",\"minorgridcolor\":\"white\",\"startlinecolor\":\"#2a3f5f\"},\"baxis\":{\"endlinecolor\":\"#2a3f5f\",\"gridcolor\":\"white\",\"linecolor\":\"white\",\"minorgridcolor\":\"white\",\"startlinecolor\":\"#2a3f5f\"},\"type\":\"carpet\"}],\"choropleth\":[{\"colorbar\":{\"outlinewidth\":0,\"ticks\":\"\"},\"type\":\"choropleth\"}],\"contourcarpet\":[{\"colorbar\":{\"outlinewidth\":0,\"ticks\":\"\"},\"type\":\"contourcarpet\"}],\"contour\":[{\"colorbar\":{\"outlinewidth\":0,\"ticks\":\"\"},\"colorscale\":[[0.0,\"#0d0887\"],[0.1111111111111111,\"#46039f\"],[0.2222222222222222,\"#7201a8\"],[0.3333333333333333,\"#9c179e\"],[0.4444444444444444,\"#bd3786\"],[0.5555555555555556,\"#d8576b\"],[0.6666666666666666,\"#ed7953\"],[0.7777777777777778,\"#fb9f3a\"],[0.8888888888888888,\"#fdca26\"],[1.0,\"#f0f921\"]],\"type\":\"contour\"}],\"heatmapgl\":[{\"colorbar\":{\"outlinewidth\":0,\"ticks\":\"\"},\"colorscale\":[[0.0,\"#0d0887\"],[0.1111111111111111,\"#46039f\"],[0.2222222222222222,\"#7201a8\"],[0.3333333333333333,\"#9c179e\"],[0.4444444444444444,\"#bd3786\"],[0.5555555555555556,\"#d8576b\"],[0.6666666666666666,\"#ed7953\"],[0.7777777777777778,\"#fb9f3a\"],[0.8888888888888888,\"#fdca26\"],[1.0,\"#f0f921\"]],\"type\":\"heatmapgl\"}],\"heatmap\":[{\"colorbar\":{\"outlinewidth\":0,\"ticks\":\"\"},\"colorscale\":[[0.0,\"#0d0887\"],[0.1111111111111111,\"#46039f\"],[0.2222222222222222,\"#7201a8\"],[0.3333333333333333,\"#9c179e\"],[0.4444444444444444,\"#bd3786\"],[0.5555555555555556,\"#d8576b\"],[0.6666666666666666,\"#ed7953\"],[0.7777777777777778,\"#fb9f3a\"],[0.8888888888888888,\"#fdca26\"],[1.0,\"#f0f921\"]],\"type\":\"heatmap\"}],\"histogram2dcontour\":[{\"colorbar\":{\"outlinewidth\":0,\"ticks\":\"\"},\"colorscale\":[[0.0,\"#0d0887\"],[0.1111111111111111,\"#46039f\"],[0.2222222222222222,\"#7201a8\"],[0.3333333333333333,\"#9c179e\"],[0.4444444444444444,\"#bd3786\"],[0.5555555555555556,\"#d8576b\"],[0.6666666666666666,\"#ed7953\"],[0.7777777777777778,\"#fb9f3a\"],[0.8888888888888888,\"#fdca26\"],[1.0,\"#f0f921\"]],\"type\":\"histogram2dcontour\"}],\"histogram2d\":[{\"colorbar\":{\"outlinewidth\":0,\"ticks\":\"\"},\"colorscale\":[[0.0,\"#0d0887\"],[0.1111111111111111,\"#46039f\"],[0.2222222222222222,\"#7201a8\"],[0.3333333333333333,\"#9c179e\"],[0.4444444444444444,\"#bd3786\"],[0.5555555555555556,\"#d8576b\"],[0.6666666666666666,\"#ed7953\"],[0.7777777777777778,\"#fb9f3a\"],[0.8888888888888888,\"#fdca26\"],[1.0,\"#f0f921\"]],\"type\":\"histogram2d\"}],\"histogram\":[{\"marker\":{\"pattern\":{\"fillmode\":\"overlay\",\"size\":10,\"solidity\":0.2}},\"type\":\"histogram\"}],\"mesh3d\":[{\"colorbar\":{\"outlinewidth\":0,\"ticks\":\"\"},\"type\":\"mesh3d\"}],\"parcoords\":[{\"line\":{\"colorbar\":{\"outlinewidth\":0,\"ticks\":\"\"}},\"type\":\"parcoords\"}],\"pie\":[{\"automargin\":true,\"type\":\"pie\"}],\"scatter3d\":[{\"line\":{\"colorbar\":{\"outlinewidth\":0,\"ticks\":\"\"}},\"marker\":{\"colorbar\":{\"outlinewidth\":0,\"ticks\":\"\"}},\"type\":\"scatter3d\"}],\"scattercarpet\":[{\"marker\":{\"colorbar\":{\"outlinewidth\":0,\"ticks\":\"\"}},\"type\":\"scattercarpet\"}],\"scattergeo\":[{\"marker\":{\"colorbar\":{\"outlinewidth\":0,\"ticks\":\"\"}},\"type\":\"scattergeo\"}],\"scattergl\":[{\"marker\":{\"colorbar\":{\"outlinewidth\":0,\"ticks\":\"\"}},\"type\":\"scattergl\"}],\"scattermapbox\":[{\"marker\":{\"colorbar\":{\"outlinewidth\":0,\"ticks\":\"\"}},\"type\":\"scattermapbox\"}],\"scatterpolargl\":[{\"marker\":{\"colorbar\":{\"outlinewidth\":0,\"ticks\":\"\"}},\"type\":\"scatterpolargl\"}],\"scatterpolar\":[{\"marker\":{\"colorbar\":{\"outlinewidth\":0,\"ticks\":\"\"}},\"type\":\"scatterpolar\"}],\"scatter\":[{\"fillpattern\":{\"fillmode\":\"overlay\",\"size\":10,\"solidity\":0.2},\"type\":\"scatter\"}],\"scatterternary\":[{\"marker\":{\"colorbar\":{\"outlinewidth\":0,\"ticks\":\"\"}},\"type\":\"scatterternary\"}],\"surface\":[{\"colorbar\":{\"outlinewidth\":0,\"ticks\":\"\"},\"colorscale\":[[0.0,\"#0d0887\"],[0.1111111111111111,\"#46039f\"],[0.2222222222222222,\"#7201a8\"],[0.3333333333333333,\"#9c179e\"],[0.4444444444444444,\"#bd3786\"],[0.5555555555555556,\"#d8576b\"],[0.6666666666666666,\"#ed7953\"],[0.7777777777777778,\"#fb9f3a\"],[0.8888888888888888,\"#fdca26\"],[1.0,\"#f0f921\"]],\"type\":\"surface\"}],\"table\":[{\"cells\":{\"fill\":{\"color\":\"#EBF0F8\"},\"line\":{\"color\":\"white\"}},\"header\":{\"fill\":{\"color\":\"#C8D4E3\"},\"line\":{\"color\":\"white\"}},\"type\":\"table\"}]},\"layout\":{\"annotationdefaults\":{\"arrowcolor\":\"#2a3f5f\",\"arrowhead\":0,\"arrowwidth\":1},\"autotypenumbers\":\"strict\",\"coloraxis\":{\"colorbar\":{\"outlinewidth\":0,\"ticks\":\"\"}},\"colorscale\":{\"diverging\":[[0,\"#8e0152\"],[0.1,\"#c51b7d\"],[0.2,\"#de77ae\"],[0.3,\"#f1b6da\"],[0.4,\"#fde0ef\"],[0.5,\"#f7f7f7\"],[0.6,\"#e6f5d0\"],[0.7,\"#b8e186\"],[0.8,\"#7fbc41\"],[0.9,\"#4d9221\"],[1,\"#276419\"]],\"sequential\":[[0.0,\"#0d0887\"],[0.1111111111111111,\"#46039f\"],[0.2222222222222222,\"#7201a8\"],[0.3333333333333333,\"#9c179e\"],[0.4444444444444444,\"#bd3786\"],[0.5555555555555556,\"#d8576b\"],[0.6666666666666666,\"#ed7953\"],[0.7777777777777778,\"#fb9f3a\"],[0.8888888888888888,\"#fdca26\"],[1.0,\"#f0f921\"]],\"sequentialminus\":[[0.0,\"#0d0887\"],[0.1111111111111111,\"#46039f\"],[0.2222222222222222,\"#7201a8\"],[0.3333333333333333,\"#9c179e\"],[0.4444444444444444,\"#bd3786\"],[0.5555555555555556,\"#d8576b\"],[0.6666666666666666,\"#ed7953\"],[0.7777777777777778,\"#fb9f3a\"],[0.8888888888888888,\"#fdca26\"],[1.0,\"#f0f921\"]]},\"colorway\":[\"#636efa\",\"#EF553B\",\"#00cc96\",\"#ab63fa\",\"#FFA15A\",\"#19d3f3\",\"#FF6692\",\"#B6E880\",\"#FF97FF\",\"#FECB52\"],\"font\":{\"color\":\"#2a3f5f\"},\"geo\":{\"bgcolor\":\"white\",\"lakecolor\":\"white\",\"landcolor\":\"#E5ECF6\",\"showlakes\":true,\"showland\":true,\"subunitcolor\":\"white\"},\"hoverlabel\":{\"align\":\"left\"},\"hovermode\":\"closest\",\"mapbox\":{\"style\":\"light\"},\"paper_bgcolor\":\"white\",\"plot_bgcolor\":\"#E5ECF6\",\"polar\":{\"angularaxis\":{\"gridcolor\":\"white\",\"linecolor\":\"white\",\"ticks\":\"\"},\"bgcolor\":\"#E5ECF6\",\"radialaxis\":{\"gridcolor\":\"white\",\"linecolor\":\"white\",\"ticks\":\"\"}},\"scene\":{\"xaxis\":{\"backgroundcolor\":\"#E5ECF6\",\"gridcolor\":\"white\",\"gridwidth\":2,\"linecolor\":\"white\",\"showbackground\":true,\"ticks\":\"\",\"zerolinecolor\":\"white\"},\"yaxis\":{\"backgroundcolor\":\"#E5ECF6\",\"gridcolor\":\"white\",\"gridwidth\":2,\"linecolor\":\"white\",\"showbackground\":true,\"ticks\":\"\",\"zerolinecolor\":\"white\"},\"zaxis\":{\"backgroundcolor\":\"#E5ECF6\",\"gridcolor\":\"white\",\"gridwidth\":2,\"linecolor\":\"white\",\"showbackground\":true,\"ticks\":\"\",\"zerolinecolor\":\"white\"}},\"shapedefaults\":{\"line\":{\"color\":\"#2a3f5f\"}},\"ternary\":{\"aaxis\":{\"gridcolor\":\"white\",\"linecolor\":\"white\",\"ticks\":\"\"},\"baxis\":{\"gridcolor\":\"white\",\"linecolor\":\"white\",\"ticks\":\"\"},\"bgcolor\":\"#E5ECF6\",\"caxis\":{\"gridcolor\":\"white\",\"linecolor\":\"white\",\"ticks\":\"\"}},\"title\":{\"x\":0.05},\"xaxis\":{\"automargin\":true,\"gridcolor\":\"white\",\"linecolor\":\"white\",\"ticks\":\"\",\"title\":{\"standoff\":15},\"zerolinecolor\":\"white\",\"zerolinewidth\":2},\"yaxis\":{\"automargin\":true,\"gridcolor\":\"white\",\"linecolor\":\"white\",\"ticks\":\"\",\"title\":{\"standoff\":15},\"zerolinecolor\":\"white\",\"zerolinewidth\":2}}},\"title\":{\"font\":{\"color\":\"#4D5663\"},\"text\":\"Count of Products with suspected fraud\"},\"xaxis\":{\"gridcolor\":\"#E1E5ED\",\"showgrid\":true,\"tickfont\":{\"color\":\"#4D5663\"},\"title\":{\"font\":{\"color\":\"#4D5663\"},\"text\":\"Category\"},\"zerolinecolor\":\"#E1E5ED\"},\"yaxis\":{\"gridcolor\":\"#E1E5ED\",\"showgrid\":true,\"tickfont\":{\"color\":\"#4D5663\"},\"title\":{\"font\":{\"color\":\"#4D5663\"},\"text\":\"Count\"},\"zerolinecolor\":\"#E1E5ED\"}},                        {\"showLink\": true, \"linkText\": \"Export to plot.ly\", \"plotlyServerURL\": \"https://plot.ly\", \"responsive\": true}                    ).then(function(){\n",
              "                            \n",
              "var gd = document.getElementById('f53294b7-0345-4662-8d2c-47feda09b701');\n",
              "var x = new MutationObserver(function (mutations, observer) {{\n",
              "        var display = window.getComputedStyle(gd).display;\n",
              "        if (!display || display === 'none') {{\n",
              "            console.log([gd, 'removed!']);\n",
              "            Plotly.purge(gd);\n",
              "            observer.disconnect();\n",
              "        }}\n",
              "}});\n",
              "\n",
              "// Listen for the removal of the full notebook cells\n",
              "var notebookContainer = gd.closest('#notebook-container');\n",
              "if (notebookContainer) {{\n",
              "    x.observe(notebookContainer, {childList: true});\n",
              "}}\n",
              "\n",
              "// Listen for the clearing of the current output cell\n",
              "var outputEl = gd.closest('.output');\n",
              "if (outputEl) {{\n",
              "    x.observe(outputEl, {childList: true});\n",
              "}}\n",
              "\n",
              "                        })                };                });            </script>        </div>"
            ]
          },
          "metadata": {}
        }
      ]
    },
    {
      "cell_type": "code",
      "source": [
        "# Creating a copy of the datafram\n",
        "train_df = df.copy()"
      ],
      "metadata": {
        "id": "LlugZUpwDVmU"
      },
      "execution_count": null,
      "outputs": []
    },
    {
      "cell_type": "code",
      "source": [
        "# Creating Binary enocode for Suspected Fraud and Late delivery\n",
        "\n",
        "train_df['fraud'] = np.where(train_df['Order Status'] == 'SUSPECTED_FRAUD', 1, 0)\n",
        "train_df['late_delivery']=np.where(train_df['Delivery Status'] == 'Late delivery', 1, 0)"
      ],
      "metadata": {
        "id": "lOShW_PUDZSP"
      },
      "execution_count": null,
      "outputs": []
    },
    {
      "cell_type": "code",
      "source": [
        "train_df.columns"
      ],
      "metadata": {
        "colab": {
          "base_uri": "https://localhost:8080/"
        },
        "id": "O6-fvt6mDci0",
        "outputId": "98a4bafb-18fa-4c0f-9d7e-3f6d0fa446f7"
      },
      "execution_count": null,
      "outputs": [
        {
          "output_type": "execute_result",
          "data": {
            "text/plain": [
              "Index(['Type', 'Days for shipping (real)', 'Days for shipment (scheduled)',\n",
              "       'Benefit per order', 'Sales per customer', 'Delivery Status',\n",
              "       'Late_delivery_risk', 'Category Id', 'Category Name', 'Customer City',\n",
              "       'Customer Country', 'Customer Id', 'Customer Segment', 'Customer State',\n",
              "       'Customer Zipcode', 'Department Id', 'Department Name', 'Market',\n",
              "       'Order City', 'Order Country', 'Order Customer Id',\n",
              "       'order date (DateOrders)', 'Order Id', 'Order Item Cardprod Id',\n",
              "       'Order Item Discount', 'Order Item Discount Rate', 'Order Item Id',\n",
              "       'Order Item Product Price', 'Order Item Profit Ratio',\n",
              "       'Order Item Quantity', 'Sales', 'Order Item Total',\n",
              "       'Order Profit Per Order', 'Order Region', 'Order State', 'Order Status',\n",
              "       'Product Card Id', 'Product Category Id', 'Product Name',\n",
              "       'Product Price', 'Shipping Mode', 'Cust_Full_Name', 'order_yr',\n",
              "       'order_month', 'order_day', 'order_hour', 'fraud', 'late_delivery'],\n",
              "      dtype='object')"
            ]
          },
          "metadata": {},
          "execution_count": 48
        }
      ]
    },
    {
      "cell_type": "code",
      "source": [
        "## Removing Identical columns after creating new columns\n",
        "\n",
        "train_df.drop(['Delivery Status','Late_delivery_risk','Order Status','order date (DateOrders)'], axis=1, inplace=True)"
      ],
      "metadata": {
        "id": "8qfRzoSADg_V"
      },
      "execution_count": null,
      "outputs": []
    },
    {
      "cell_type": "code",
      "source": [
        "## Final dimensions of the dataset after wrangling and cleaning\n",
        "\n",
        "train_df.shape"
      ],
      "metadata": {
        "colab": {
          "base_uri": "https://localhost:8080/"
        },
        "id": "ojWqTp6rDjk7",
        "outputId": "2f94967f-809d-4658-8237-604367620ce4"
      },
      "execution_count": null,
      "outputs": [
        {
          "output_type": "execute_result",
          "data": {
            "text/plain": [
              "(6014, 44)"
            ]
          },
          "metadata": {},
          "execution_count": 50
        }
      ]
    },
    {
      "cell_type": "code",
      "source": [
        "train_df.dtypes"
      ],
      "metadata": {
        "colab": {
          "base_uri": "https://localhost:8080/"
        },
        "id": "eTG1xy3RDoub",
        "outputId": "52f20b67-0b96-4f79-8235-d64d87aaef40"
      },
      "execution_count": null,
      "outputs": [
        {
          "output_type": "execute_result",
          "data": {
            "text/plain": [
              "Type                              object\n",
              "Days for shipping (real)           int64\n",
              "Days for shipment (scheduled)      int64\n",
              "Benefit per order                float64\n",
              "Sales per customer               float64\n",
              "Category Id                        int64\n",
              "Category Name                     object\n",
              "Customer City                     object\n",
              "Customer Country                  object\n",
              "Customer Id                        int64\n",
              "Customer Segment                  object\n",
              "Customer State                    object\n",
              "Customer Zipcode                   int64\n",
              "Department Id                      int64\n",
              "Department Name                   object\n",
              "Market                            object\n",
              "Order City                        object\n",
              "Order Country                     object\n",
              "Order Customer Id                  int64\n",
              "Order Id                           int64\n",
              "Order Item Cardprod Id             int64\n",
              "Order Item Discount              float64\n",
              "Order Item Discount Rate         float64\n",
              "Order Item Id                      int64\n",
              "Order Item Product Price         float64\n",
              "Order Item Profit Ratio          float64\n",
              "Order Item Quantity                int64\n",
              "Sales                            float64\n",
              "Order Item Total                 float64\n",
              "Order Profit Per Order           float64\n",
              "Order Region                      object\n",
              "Order State                       object\n",
              "Product Card Id                  float64\n",
              "Product Category Id              float64\n",
              "Product Name                      object\n",
              "Product Price                    float64\n",
              "Shipping Mode                     object\n",
              "Cust_Full_Name                    object\n",
              "order_yr                           int64\n",
              "order_month                        int64\n",
              "order_day                          int64\n",
              "order_hour                         int64\n",
              "fraud                              int64\n",
              "late_delivery                      int64\n",
              "dtype: object"
            ]
          },
          "metadata": {},
          "execution_count": 51
        }
      ]
    },
    {
      "cell_type": "code",
      "source": [
        "le = preprocessing.LabelEncoder()\n",
        "#convert the categorical columns into numeric\n",
        "train_df['Customer Country']  = le.fit_transform(train_df['Customer Country'])\n",
        "train_df['Market']            = le.fit_transform(train_df['Market'])\n",
        "train_df['Type']              = le.fit_transform(train_df['Type'])\n",
        "train_df['Product Name']      = le.fit_transform(train_df['Product Name'])\n",
        "train_df['Customer Segment']  = le.fit_transform(train_df['Customer Segment'])\n",
        "train_df['Customer State']    = le.fit_transform(train_df['Customer State'])\n",
        "train_df['Order Region']      = le.fit_transform(train_df['Order Region'])\n",
        "train_df['Order City']        = le.fit_transform(train_df['Order City'])\n",
        "train_df['Category Name']     = le.fit_transform(train_df['Category Name'])\n",
        "train_df['Customer City']     = le.fit_transform(train_df['Customer City'])\n",
        "train_df['Department Name']   = le.fit_transform(train_df['Department Name'])\n",
        "train_df['Order State']       = le.fit_transform(train_df['Order State'])\n",
        "train_df['Shipping Mode']     = le.fit_transform(train_df['Shipping Mode'])\n",
        "train_df['Order Country']     = le.fit_transform(train_df['Order Country'])\n",
        "train_df['Cust_Full_Name']    = le.fit_transform(train_df['Cust_Full_Name'])"
      ],
      "metadata": {
        "id": "ar14Ia7VDtVN"
      },
      "execution_count": null,
      "outputs": []
    },
    {
      "cell_type": "code",
      "source": [
        "train_df.head()\n"
      ],
      "metadata": {
        "colab": {
          "base_uri": "https://localhost:8080/",
          "height": 290
        },
        "id": "jA4HPNVgDx9s",
        "outputId": "5844194a-68cb-49c8-f657-87e8ba237176"
      },
      "execution_count": null,
      "outputs": [
        {
          "output_type": "execute_result",
          "data": {
            "text/plain": [
              "   Type  Days for shipping (real)  Days for shipment (scheduled)  \\\n",
              "0     1                         3                              4   \n",
              "1     3                         5                              4   \n",
              "2     0                         4                              4   \n",
              "3     1                         3                              4   \n",
              "4     2                         2                              4   \n",
              "\n",
              "   Benefit per order  Sales per customer  Category Id  Category Name  \\\n",
              "0          91.250000          314.640015           73             34   \n",
              "1        -249.089996          311.359985           73             34   \n",
              "2        -247.779999          309.720001           73             34   \n",
              "3          22.860001          304.809998           73             34   \n",
              "4         134.210007          298.250000           73             34   \n",
              "\n",
              "   Customer City  Customer Country  Customer Id  ...  Product Name  \\\n",
              "0             60                 1        20755  ...            54   \n",
              "1             60                 1        19492  ...            54   \n",
              "2            424                 0        19491  ...            54   \n",
              "3            265                 0        19490  ...            54   \n",
              "4             60                 1        19489  ...            54   \n",
              "\n",
              "   Product Price  Shipping Mode  Cust_Full_Name  order_yr  order_month  \\\n",
              "0         327.75              3             312      2018            1   \n",
              "1         327.75              3             889      2018            1   \n",
              "2         327.75              3             780      2018            1   \n",
              "3         327.75              3            2524      2018            1   \n",
              "4         327.75              3            2153      2018            1   \n",
              "\n",
              "   order_day  order_hour  fraud  late_delivery  \n",
              "0          2          22      0              0  \n",
              "1          5          12      0              1  \n",
              "2          5          12      0              0  \n",
              "3          5          11      0              0  \n",
              "4          5          11      0              0  \n",
              "\n",
              "[5 rows x 44 columns]"
            ],
            "text/html": [
              "\n",
              "  <div id=\"df-5f57ed82-10ef-40a8-aa7a-f009dd7d0ec7\" class=\"colab-df-container\">\n",
              "    <div>\n",
              "<style scoped>\n",
              "    .dataframe tbody tr th:only-of-type {\n",
              "        vertical-align: middle;\n",
              "    }\n",
              "\n",
              "    .dataframe tbody tr th {\n",
              "        vertical-align: top;\n",
              "    }\n",
              "\n",
              "    .dataframe thead th {\n",
              "        text-align: right;\n",
              "    }\n",
              "</style>\n",
              "<table border=\"1\" class=\"dataframe\">\n",
              "  <thead>\n",
              "    <tr style=\"text-align: right;\">\n",
              "      <th></th>\n",
              "      <th>Type</th>\n",
              "      <th>Days for shipping (real)</th>\n",
              "      <th>Days for shipment (scheduled)</th>\n",
              "      <th>Benefit per order</th>\n",
              "      <th>Sales per customer</th>\n",
              "      <th>Category Id</th>\n",
              "      <th>Category Name</th>\n",
              "      <th>Customer City</th>\n",
              "      <th>Customer Country</th>\n",
              "      <th>Customer Id</th>\n",
              "      <th>...</th>\n",
              "      <th>Product Name</th>\n",
              "      <th>Product Price</th>\n",
              "      <th>Shipping Mode</th>\n",
              "      <th>Cust_Full_Name</th>\n",
              "      <th>order_yr</th>\n",
              "      <th>order_month</th>\n",
              "      <th>order_day</th>\n",
              "      <th>order_hour</th>\n",
              "      <th>fraud</th>\n",
              "      <th>late_delivery</th>\n",
              "    </tr>\n",
              "  </thead>\n",
              "  <tbody>\n",
              "    <tr>\n",
              "      <th>0</th>\n",
              "      <td>1</td>\n",
              "      <td>3</td>\n",
              "      <td>4</td>\n",
              "      <td>91.250000</td>\n",
              "      <td>314.640015</td>\n",
              "      <td>73</td>\n",
              "      <td>34</td>\n",
              "      <td>60</td>\n",
              "      <td>1</td>\n",
              "      <td>20755</td>\n",
              "      <td>...</td>\n",
              "      <td>54</td>\n",
              "      <td>327.75</td>\n",
              "      <td>3</td>\n",
              "      <td>312</td>\n",
              "      <td>2018</td>\n",
              "      <td>1</td>\n",
              "      <td>2</td>\n",
              "      <td>22</td>\n",
              "      <td>0</td>\n",
              "      <td>0</td>\n",
              "    </tr>\n",
              "    <tr>\n",
              "      <th>1</th>\n",
              "      <td>3</td>\n",
              "      <td>5</td>\n",
              "      <td>4</td>\n",
              "      <td>-249.089996</td>\n",
              "      <td>311.359985</td>\n",
              "      <td>73</td>\n",
              "      <td>34</td>\n",
              "      <td>60</td>\n",
              "      <td>1</td>\n",
              "      <td>19492</td>\n",
              "      <td>...</td>\n",
              "      <td>54</td>\n",
              "      <td>327.75</td>\n",
              "      <td>3</td>\n",
              "      <td>889</td>\n",
              "      <td>2018</td>\n",
              "      <td>1</td>\n",
              "      <td>5</td>\n",
              "      <td>12</td>\n",
              "      <td>0</td>\n",
              "      <td>1</td>\n",
              "    </tr>\n",
              "    <tr>\n",
              "      <th>2</th>\n",
              "      <td>0</td>\n",
              "      <td>4</td>\n",
              "      <td>4</td>\n",
              "      <td>-247.779999</td>\n",
              "      <td>309.720001</td>\n",
              "      <td>73</td>\n",
              "      <td>34</td>\n",
              "      <td>424</td>\n",
              "      <td>0</td>\n",
              "      <td>19491</td>\n",
              "      <td>...</td>\n",
              "      <td>54</td>\n",
              "      <td>327.75</td>\n",
              "      <td>3</td>\n",
              "      <td>780</td>\n",
              "      <td>2018</td>\n",
              "      <td>1</td>\n",
              "      <td>5</td>\n",
              "      <td>12</td>\n",
              "      <td>0</td>\n",
              "      <td>0</td>\n",
              "    </tr>\n",
              "    <tr>\n",
              "      <th>3</th>\n",
              "      <td>1</td>\n",
              "      <td>3</td>\n",
              "      <td>4</td>\n",
              "      <td>22.860001</td>\n",
              "      <td>304.809998</td>\n",
              "      <td>73</td>\n",
              "      <td>34</td>\n",
              "      <td>265</td>\n",
              "      <td>0</td>\n",
              "      <td>19490</td>\n",
              "      <td>...</td>\n",
              "      <td>54</td>\n",
              "      <td>327.75</td>\n",
              "      <td>3</td>\n",
              "      <td>2524</td>\n",
              "      <td>2018</td>\n",
              "      <td>1</td>\n",
              "      <td>5</td>\n",
              "      <td>11</td>\n",
              "      <td>0</td>\n",
              "      <td>0</td>\n",
              "    </tr>\n",
              "    <tr>\n",
              "      <th>4</th>\n",
              "      <td>2</td>\n",
              "      <td>2</td>\n",
              "      <td>4</td>\n",
              "      <td>134.210007</td>\n",
              "      <td>298.250000</td>\n",
              "      <td>73</td>\n",
              "      <td>34</td>\n",
              "      <td>60</td>\n",
              "      <td>1</td>\n",
              "      <td>19489</td>\n",
              "      <td>...</td>\n",
              "      <td>54</td>\n",
              "      <td>327.75</td>\n",
              "      <td>3</td>\n",
              "      <td>2153</td>\n",
              "      <td>2018</td>\n",
              "      <td>1</td>\n",
              "      <td>5</td>\n",
              "      <td>11</td>\n",
              "      <td>0</td>\n",
              "      <td>0</td>\n",
              "    </tr>\n",
              "  </tbody>\n",
              "</table>\n",
              "<p>5 rows × 44 columns</p>\n",
              "</div>\n",
              "    <div class=\"colab-df-buttons\">\n",
              "\n",
              "  <div class=\"colab-df-container\">\n",
              "    <button class=\"colab-df-convert\" onclick=\"convertToInteractive('df-5f57ed82-10ef-40a8-aa7a-f009dd7d0ec7')\"\n",
              "            title=\"Convert this dataframe to an interactive table.\"\n",
              "            style=\"display:none;\">\n",
              "\n",
              "  <svg xmlns=\"http://www.w3.org/2000/svg\" height=\"24px\" viewBox=\"0 -960 960 960\">\n",
              "    <path d=\"M120-120v-720h720v720H120Zm60-500h600v-160H180v160Zm220 220h160v-160H400v160Zm0 220h160v-160H400v160ZM180-400h160v-160H180v160Zm440 0h160v-160H620v160ZM180-180h160v-160H180v160Zm440 0h160v-160H620v160Z\"/>\n",
              "  </svg>\n",
              "    </button>\n",
              "\n",
              "  <style>\n",
              "    .colab-df-container {\n",
              "      display:flex;\n",
              "      gap: 12px;\n",
              "    }\n",
              "\n",
              "    .colab-df-convert {\n",
              "      background-color: #E8F0FE;\n",
              "      border: none;\n",
              "      border-radius: 50%;\n",
              "      cursor: pointer;\n",
              "      display: none;\n",
              "      fill: #1967D2;\n",
              "      height: 32px;\n",
              "      padding: 0 0 0 0;\n",
              "      width: 32px;\n",
              "    }\n",
              "\n",
              "    .colab-df-convert:hover {\n",
              "      background-color: #E2EBFA;\n",
              "      box-shadow: 0px 1px 2px rgba(60, 64, 67, 0.3), 0px 1px 3px 1px rgba(60, 64, 67, 0.15);\n",
              "      fill: #174EA6;\n",
              "    }\n",
              "\n",
              "    .colab-df-buttons div {\n",
              "      margin-bottom: 4px;\n",
              "    }\n",
              "\n",
              "    [theme=dark] .colab-df-convert {\n",
              "      background-color: #3B4455;\n",
              "      fill: #D2E3FC;\n",
              "    }\n",
              "\n",
              "    [theme=dark] .colab-df-convert:hover {\n",
              "      background-color: #434B5C;\n",
              "      box-shadow: 0px 1px 3px 1px rgba(0, 0, 0, 0.15);\n",
              "      filter: drop-shadow(0px 1px 2px rgba(0, 0, 0, 0.3));\n",
              "      fill: #FFFFFF;\n",
              "    }\n",
              "  </style>\n",
              "\n",
              "    <script>\n",
              "      const buttonEl =\n",
              "        document.querySelector('#df-5f57ed82-10ef-40a8-aa7a-f009dd7d0ec7 button.colab-df-convert');\n",
              "      buttonEl.style.display =\n",
              "        google.colab.kernel.accessAllowed ? 'block' : 'none';\n",
              "\n",
              "      async function convertToInteractive(key) {\n",
              "        const element = document.querySelector('#df-5f57ed82-10ef-40a8-aa7a-f009dd7d0ec7');\n",
              "        const dataTable =\n",
              "          await google.colab.kernel.invokeFunction('convertToInteractive',\n",
              "                                                    [key], {});\n",
              "        if (!dataTable) return;\n",
              "\n",
              "        const docLinkHtml = 'Like what you see? Visit the ' +\n",
              "          '<a target=\"_blank\" href=https://colab.research.google.com/notebooks/data_table.ipynb>data table notebook</a>'\n",
              "          + ' to learn more about interactive tables.';\n",
              "        element.innerHTML = '';\n",
              "        dataTable['output_type'] = 'display_data';\n",
              "        await google.colab.output.renderOutput(dataTable, element);\n",
              "        const docLink = document.createElement('div');\n",
              "        docLink.innerHTML = docLinkHtml;\n",
              "        element.appendChild(docLink);\n",
              "      }\n",
              "    </script>\n",
              "  </div>\n",
              "\n",
              "\n",
              "<div id=\"df-de95da34-f382-46f5-8c9f-2e66e4e2848b\">\n",
              "  <button class=\"colab-df-quickchart\" onclick=\"quickchart('df-de95da34-f382-46f5-8c9f-2e66e4e2848b')\"\n",
              "            title=\"Suggest charts.\"\n",
              "            style=\"display:none;\">\n",
              "\n",
              "<svg xmlns=\"http://www.w3.org/2000/svg\" height=\"24px\"viewBox=\"0 0 24 24\"\n",
              "     width=\"24px\">\n",
              "    <g>\n",
              "        <path d=\"M19 3H5c-1.1 0-2 .9-2 2v14c0 1.1.9 2 2 2h14c1.1 0 2-.9 2-2V5c0-1.1-.9-2-2-2zM9 17H7v-7h2v7zm4 0h-2V7h2v10zm4 0h-2v-4h2v4z\"/>\n",
              "    </g>\n",
              "</svg>\n",
              "  </button>\n",
              "\n",
              "<style>\n",
              "  .colab-df-quickchart {\n",
              "      --bg-color: #E8F0FE;\n",
              "      --fill-color: #1967D2;\n",
              "      --hover-bg-color: #E2EBFA;\n",
              "      --hover-fill-color: #174EA6;\n",
              "      --disabled-fill-color: #AAA;\n",
              "      --disabled-bg-color: #DDD;\n",
              "  }\n",
              "\n",
              "  [theme=dark] .colab-df-quickchart {\n",
              "      --bg-color: #3B4455;\n",
              "      --fill-color: #D2E3FC;\n",
              "      --hover-bg-color: #434B5C;\n",
              "      --hover-fill-color: #FFFFFF;\n",
              "      --disabled-bg-color: #3B4455;\n",
              "      --disabled-fill-color: #666;\n",
              "  }\n",
              "\n",
              "  .colab-df-quickchart {\n",
              "    background-color: var(--bg-color);\n",
              "    border: none;\n",
              "    border-radius: 50%;\n",
              "    cursor: pointer;\n",
              "    display: none;\n",
              "    fill: var(--fill-color);\n",
              "    height: 32px;\n",
              "    padding: 0;\n",
              "    width: 32px;\n",
              "  }\n",
              "\n",
              "  .colab-df-quickchart:hover {\n",
              "    background-color: var(--hover-bg-color);\n",
              "    box-shadow: 0 1px 2px rgba(60, 64, 67, 0.3), 0 1px 3px 1px rgba(60, 64, 67, 0.15);\n",
              "    fill: var(--button-hover-fill-color);\n",
              "  }\n",
              "\n",
              "  .colab-df-quickchart-complete:disabled,\n",
              "  .colab-df-quickchart-complete:disabled:hover {\n",
              "    background-color: var(--disabled-bg-color);\n",
              "    fill: var(--disabled-fill-color);\n",
              "    box-shadow: none;\n",
              "  }\n",
              "\n",
              "  .colab-df-spinner {\n",
              "    border: 2px solid var(--fill-color);\n",
              "    border-color: transparent;\n",
              "    border-bottom-color: var(--fill-color);\n",
              "    animation:\n",
              "      spin 1s steps(1) infinite;\n",
              "  }\n",
              "\n",
              "  @keyframes spin {\n",
              "    0% {\n",
              "      border-color: transparent;\n",
              "      border-bottom-color: var(--fill-color);\n",
              "      border-left-color: var(--fill-color);\n",
              "    }\n",
              "    20% {\n",
              "      border-color: transparent;\n",
              "      border-left-color: var(--fill-color);\n",
              "      border-top-color: var(--fill-color);\n",
              "    }\n",
              "    30% {\n",
              "      border-color: transparent;\n",
              "      border-left-color: var(--fill-color);\n",
              "      border-top-color: var(--fill-color);\n",
              "      border-right-color: var(--fill-color);\n",
              "    }\n",
              "    40% {\n",
              "      border-color: transparent;\n",
              "      border-right-color: var(--fill-color);\n",
              "      border-top-color: var(--fill-color);\n",
              "    }\n",
              "    60% {\n",
              "      border-color: transparent;\n",
              "      border-right-color: var(--fill-color);\n",
              "    }\n",
              "    80% {\n",
              "      border-color: transparent;\n",
              "      border-right-color: var(--fill-color);\n",
              "      border-bottom-color: var(--fill-color);\n",
              "    }\n",
              "    90% {\n",
              "      border-color: transparent;\n",
              "      border-bottom-color: var(--fill-color);\n",
              "    }\n",
              "  }\n",
              "</style>\n",
              "\n",
              "  <script>\n",
              "    async function quickchart(key) {\n",
              "      const quickchartButtonEl =\n",
              "        document.querySelector('#' + key + ' button');\n",
              "      quickchartButtonEl.disabled = true;  // To prevent multiple clicks.\n",
              "      quickchartButtonEl.classList.add('colab-df-spinner');\n",
              "      try {\n",
              "        const charts = await google.colab.kernel.invokeFunction(\n",
              "            'suggestCharts', [key], {});\n",
              "      } catch (error) {\n",
              "        console.error('Error during call to suggestCharts:', error);\n",
              "      }\n",
              "      quickchartButtonEl.classList.remove('colab-df-spinner');\n",
              "      quickchartButtonEl.classList.add('colab-df-quickchart-complete');\n",
              "    }\n",
              "    (() => {\n",
              "      let quickchartButtonEl =\n",
              "        document.querySelector('#df-de95da34-f382-46f5-8c9f-2e66e4e2848b button');\n",
              "      quickchartButtonEl.style.display =\n",
              "        google.colab.kernel.accessAllowed ? 'block' : 'none';\n",
              "    })();\n",
              "  </script>\n",
              "</div>\n",
              "    </div>\n",
              "  </div>\n"
            ]
          },
          "metadata": {},
          "execution_count": 53
        }
      ]
    },
    {
      "cell_type": "code",
      "source": [
        "# rows = int(train_df.shape[0] * 0.1)\n",
        "\n",
        "# randomly select the specified number of rows\n",
        "# random_rows = np.random.choice(train_df.index, rows, replace=False)\n",
        "\n",
        "# create a new dataframe from the randomly selected rows\n",
        "# validation_df = df.loc[random_rows]\n",
        "\n",
        "# Dropping those rows from the original dataset\n",
        "# train_df.drop(random_rows,inplace = True)\n",
        "## Selecting 10% of the dataset for validation\n",
        "\n",
        "fraction_of_rows = train_df.sample(frac=0.1, random_state = 1)\n",
        "fraction_of_rows"
      ],
      "metadata": {
        "colab": {
          "base_uri": "https://localhost:8080/",
          "height": 478
        },
        "id": "C26DSd0mD2SP",
        "outputId": "eb0c781b-912d-41a4-c260-56238b83b742"
      },
      "execution_count": null,
      "outputs": [
        {
          "output_type": "execute_result",
          "data": {
            "text/plain": [
              "      Type  Days for shipping (real)  Days for shipment (scheduled)  \\\n",
              "5488     2                         5                              4   \n",
              "1936     3                         2                              4   \n",
              "5796     0                         2                              1   \n",
              "5618     3                         4                              4   \n",
              "79       2                         5                              2   \n",
              "...    ...                       ...                            ...   \n",
              "2054     1                         3                              4   \n",
              "3602     1                         5                              2   \n",
              "2338     1                         5                              4   \n",
              "4576     1                         6                              4   \n",
              "6008     0                         2                              1   \n",
              "\n",
              "      Benefit per order  Sales per customer  Category Id  Category Name  \\\n",
              "5488          11.810000           94.500000            7             24   \n",
              "1936          40.360001          139.160004           13             17   \n",
              "5796          32.110001          123.489998           18             29   \n",
              "5618           2.000000           20.000000            7             24   \n",
              "79           -26.690001          163.770004           17             12   \n",
              "...                 ...                 ...          ...            ...   \n",
              "2054         118.129997          236.250000           24             39   \n",
              "3602          24.000000           50.000000           24             39   \n",
              "2338         241.580002          503.290008           68             20   \n",
              "4576          69.980003          199.949997           29             32   \n",
              "6008         -21.980000           29.990000           29             32   \n",
              "\n",
              "      Customer City  Customer Country  Customer Id  ...  Product Name  \\\n",
              "5488             60                 1         4011  ...            46   \n",
              "1936             60                 1         9368  ...            77   \n",
              "5796            455                 0        11833  ...            38   \n",
              "5618             87                 0         2969  ...            46   \n",
              "79               60                 1         5007  ...            48   \n",
              "...             ...               ...          ...  ...           ...   \n",
              "2054             53                 0          137  ...            41   \n",
              "3602             60                 1         8481  ...            41   \n",
              "2338            265                 0        15497  ...            33   \n",
              "4576            465                 0         5877  ...            71   \n",
              "6008            194                 0         5916  ...            71   \n",
              "\n",
              "      Product Price  Shipping Mode  Cust_Full_Name  order_yr  order_month  \\\n",
              "5488      25.000000              3            2594      2016            8   \n",
              "1936      31.990000              3            1551      2016            7   \n",
              "5796     129.990005              0            1950      2015            9   \n",
              "5618      25.000000              3            1629      2015            8   \n",
              "79        59.990002              2            1904      2015            4   \n",
              "...             ...            ...             ...       ...          ...   \n",
              "2054      50.000000              3            1106      2015            7   \n",
              "3602      50.000000              2            1904      2016            1   \n",
              "2338     532.580017              3            2269      2017           11   \n",
              "4576      39.990002              3            1827      2015            5   \n",
              "6008      39.990002              0            1186      2015           12   \n",
              "\n",
              "      order_day  order_hour  fraud  late_delivery  \n",
              "5488          5           1      0              1  \n",
              "1936          6          11      0              0  \n",
              "5796          5          20      0              1  \n",
              "5618          6           0      0              0  \n",
              "79            5           1      0              1  \n",
              "...         ...         ...    ...            ...  \n",
              "2054          2          14      0              0  \n",
              "3602          0          13      0              1  \n",
              "2338          3           4      0              1  \n",
              "4576          3          14      0              1  \n",
              "6008          2          20      0              1  \n",
              "\n",
              "[601 rows x 44 columns]"
            ],
            "text/html": [
              "\n",
              "  <div id=\"df-dde89e43-da69-4a58-810b-fd509441da10\" class=\"colab-df-container\">\n",
              "    <div>\n",
              "<style scoped>\n",
              "    .dataframe tbody tr th:only-of-type {\n",
              "        vertical-align: middle;\n",
              "    }\n",
              "\n",
              "    .dataframe tbody tr th {\n",
              "        vertical-align: top;\n",
              "    }\n",
              "\n",
              "    .dataframe thead th {\n",
              "        text-align: right;\n",
              "    }\n",
              "</style>\n",
              "<table border=\"1\" class=\"dataframe\">\n",
              "  <thead>\n",
              "    <tr style=\"text-align: right;\">\n",
              "      <th></th>\n",
              "      <th>Type</th>\n",
              "      <th>Days for shipping (real)</th>\n",
              "      <th>Days for shipment (scheduled)</th>\n",
              "      <th>Benefit per order</th>\n",
              "      <th>Sales per customer</th>\n",
              "      <th>Category Id</th>\n",
              "      <th>Category Name</th>\n",
              "      <th>Customer City</th>\n",
              "      <th>Customer Country</th>\n",
              "      <th>Customer Id</th>\n",
              "      <th>...</th>\n",
              "      <th>Product Name</th>\n",
              "      <th>Product Price</th>\n",
              "      <th>Shipping Mode</th>\n",
              "      <th>Cust_Full_Name</th>\n",
              "      <th>order_yr</th>\n",
              "      <th>order_month</th>\n",
              "      <th>order_day</th>\n",
              "      <th>order_hour</th>\n",
              "      <th>fraud</th>\n",
              "      <th>late_delivery</th>\n",
              "    </tr>\n",
              "  </thead>\n",
              "  <tbody>\n",
              "    <tr>\n",
              "      <th>5488</th>\n",
              "      <td>2</td>\n",
              "      <td>5</td>\n",
              "      <td>4</td>\n",
              "      <td>11.810000</td>\n",
              "      <td>94.500000</td>\n",
              "      <td>7</td>\n",
              "      <td>24</td>\n",
              "      <td>60</td>\n",
              "      <td>1</td>\n",
              "      <td>4011</td>\n",
              "      <td>...</td>\n",
              "      <td>46</td>\n",
              "      <td>25.000000</td>\n",
              "      <td>3</td>\n",
              "      <td>2594</td>\n",
              "      <td>2016</td>\n",
              "      <td>8</td>\n",
              "      <td>5</td>\n",
              "      <td>1</td>\n",
              "      <td>0</td>\n",
              "      <td>1</td>\n",
              "    </tr>\n",
              "    <tr>\n",
              "      <th>1936</th>\n",
              "      <td>3</td>\n",
              "      <td>2</td>\n",
              "      <td>4</td>\n",
              "      <td>40.360001</td>\n",
              "      <td>139.160004</td>\n",
              "      <td>13</td>\n",
              "      <td>17</td>\n",
              "      <td>60</td>\n",
              "      <td>1</td>\n",
              "      <td>9368</td>\n",
              "      <td>...</td>\n",
              "      <td>77</td>\n",
              "      <td>31.990000</td>\n",
              "      <td>3</td>\n",
              "      <td>1551</td>\n",
              "      <td>2016</td>\n",
              "      <td>7</td>\n",
              "      <td>6</td>\n",
              "      <td>11</td>\n",
              "      <td>0</td>\n",
              "      <td>0</td>\n",
              "    </tr>\n",
              "    <tr>\n",
              "      <th>5796</th>\n",
              "      <td>0</td>\n",
              "      <td>2</td>\n",
              "      <td>1</td>\n",
              "      <td>32.110001</td>\n",
              "      <td>123.489998</td>\n",
              "      <td>18</td>\n",
              "      <td>29</td>\n",
              "      <td>455</td>\n",
              "      <td>0</td>\n",
              "      <td>11833</td>\n",
              "      <td>...</td>\n",
              "      <td>38</td>\n",
              "      <td>129.990005</td>\n",
              "      <td>0</td>\n",
              "      <td>1950</td>\n",
              "      <td>2015</td>\n",
              "      <td>9</td>\n",
              "      <td>5</td>\n",
              "      <td>20</td>\n",
              "      <td>0</td>\n",
              "      <td>1</td>\n",
              "    </tr>\n",
              "    <tr>\n",
              "      <th>5618</th>\n",
              "      <td>3</td>\n",
              "      <td>4</td>\n",
              "      <td>4</td>\n",
              "      <td>2.000000</td>\n",
              "      <td>20.000000</td>\n",
              "      <td>7</td>\n",
              "      <td>24</td>\n",
              "      <td>87</td>\n",
              "      <td>0</td>\n",
              "      <td>2969</td>\n",
              "      <td>...</td>\n",
              "      <td>46</td>\n",
              "      <td>25.000000</td>\n",
              "      <td>3</td>\n",
              "      <td>1629</td>\n",
              "      <td>2015</td>\n",
              "      <td>8</td>\n",
              "      <td>6</td>\n",
              "      <td>0</td>\n",
              "      <td>0</td>\n",
              "      <td>0</td>\n",
              "    </tr>\n",
              "    <tr>\n",
              "      <th>79</th>\n",
              "      <td>2</td>\n",
              "      <td>5</td>\n",
              "      <td>2</td>\n",
              "      <td>-26.690001</td>\n",
              "      <td>163.770004</td>\n",
              "      <td>17</td>\n",
              "      <td>12</td>\n",
              "      <td>60</td>\n",
              "      <td>1</td>\n",
              "      <td>5007</td>\n",
              "      <td>...</td>\n",
              "      <td>48</td>\n",
              "      <td>59.990002</td>\n",
              "      <td>2</td>\n",
              "      <td>1904</td>\n",
              "      <td>2015</td>\n",
              "      <td>4</td>\n",
              "      <td>5</td>\n",
              "      <td>1</td>\n",
              "      <td>0</td>\n",
              "      <td>1</td>\n",
              "    </tr>\n",
              "    <tr>\n",
              "      <th>...</th>\n",
              "      <td>...</td>\n",
              "      <td>...</td>\n",
              "      <td>...</td>\n",
              "      <td>...</td>\n",
              "      <td>...</td>\n",
              "      <td>...</td>\n",
              "      <td>...</td>\n",
              "      <td>...</td>\n",
              "      <td>...</td>\n",
              "      <td>...</td>\n",
              "      <td>...</td>\n",
              "      <td>...</td>\n",
              "      <td>...</td>\n",
              "      <td>...</td>\n",
              "      <td>...</td>\n",
              "      <td>...</td>\n",
              "      <td>...</td>\n",
              "      <td>...</td>\n",
              "      <td>...</td>\n",
              "      <td>...</td>\n",
              "      <td>...</td>\n",
              "    </tr>\n",
              "    <tr>\n",
              "      <th>2054</th>\n",
              "      <td>1</td>\n",
              "      <td>3</td>\n",
              "      <td>4</td>\n",
              "      <td>118.129997</td>\n",
              "      <td>236.250000</td>\n",
              "      <td>24</td>\n",
              "      <td>39</td>\n",
              "      <td>53</td>\n",
              "      <td>0</td>\n",
              "      <td>137</td>\n",
              "      <td>...</td>\n",
              "      <td>41</td>\n",
              "      <td>50.000000</td>\n",
              "      <td>3</td>\n",
              "      <td>1106</td>\n",
              "      <td>2015</td>\n",
              "      <td>7</td>\n",
              "      <td>2</td>\n",
              "      <td>14</td>\n",
              "      <td>0</td>\n",
              "      <td>0</td>\n",
              "    </tr>\n",
              "    <tr>\n",
              "      <th>3602</th>\n",
              "      <td>1</td>\n",
              "      <td>5</td>\n",
              "      <td>2</td>\n",
              "      <td>24.000000</td>\n",
              "      <td>50.000000</td>\n",
              "      <td>24</td>\n",
              "      <td>39</td>\n",
              "      <td>60</td>\n",
              "      <td>1</td>\n",
              "      <td>8481</td>\n",
              "      <td>...</td>\n",
              "      <td>41</td>\n",
              "      <td>50.000000</td>\n",
              "      <td>2</td>\n",
              "      <td>1904</td>\n",
              "      <td>2016</td>\n",
              "      <td>1</td>\n",
              "      <td>0</td>\n",
              "      <td>13</td>\n",
              "      <td>0</td>\n",
              "      <td>1</td>\n",
              "    </tr>\n",
              "    <tr>\n",
              "      <th>2338</th>\n",
              "      <td>1</td>\n",
              "      <td>5</td>\n",
              "      <td>4</td>\n",
              "      <td>241.580002</td>\n",
              "      <td>503.290008</td>\n",
              "      <td>68</td>\n",
              "      <td>20</td>\n",
              "      <td>265</td>\n",
              "      <td>0</td>\n",
              "      <td>15497</td>\n",
              "      <td>...</td>\n",
              "      <td>33</td>\n",
              "      <td>532.580017</td>\n",
              "      <td>3</td>\n",
              "      <td>2269</td>\n",
              "      <td>2017</td>\n",
              "      <td>11</td>\n",
              "      <td>3</td>\n",
              "      <td>4</td>\n",
              "      <td>0</td>\n",
              "      <td>1</td>\n",
              "    </tr>\n",
              "    <tr>\n",
              "      <th>4576</th>\n",
              "      <td>1</td>\n",
              "      <td>6</td>\n",
              "      <td>4</td>\n",
              "      <td>69.980003</td>\n",
              "      <td>199.949997</td>\n",
              "      <td>29</td>\n",
              "      <td>32</td>\n",
              "      <td>465</td>\n",
              "      <td>0</td>\n",
              "      <td>5877</td>\n",
              "      <td>...</td>\n",
              "      <td>71</td>\n",
              "      <td>39.990002</td>\n",
              "      <td>3</td>\n",
              "      <td>1827</td>\n",
              "      <td>2015</td>\n",
              "      <td>5</td>\n",
              "      <td>3</td>\n",
              "      <td>14</td>\n",
              "      <td>0</td>\n",
              "      <td>1</td>\n",
              "    </tr>\n",
              "    <tr>\n",
              "      <th>6008</th>\n",
              "      <td>0</td>\n",
              "      <td>2</td>\n",
              "      <td>1</td>\n",
              "      <td>-21.980000</td>\n",
              "      <td>29.990000</td>\n",
              "      <td>29</td>\n",
              "      <td>32</td>\n",
              "      <td>194</td>\n",
              "      <td>0</td>\n",
              "      <td>5916</td>\n",
              "      <td>...</td>\n",
              "      <td>71</td>\n",
              "      <td>39.990002</td>\n",
              "      <td>0</td>\n",
              "      <td>1186</td>\n",
              "      <td>2015</td>\n",
              "      <td>12</td>\n",
              "      <td>2</td>\n",
              "      <td>20</td>\n",
              "      <td>0</td>\n",
              "      <td>1</td>\n",
              "    </tr>\n",
              "  </tbody>\n",
              "</table>\n",
              "<p>601 rows × 44 columns</p>\n",
              "</div>\n",
              "    <div class=\"colab-df-buttons\">\n",
              "\n",
              "  <div class=\"colab-df-container\">\n",
              "    <button class=\"colab-df-convert\" onclick=\"convertToInteractive('df-dde89e43-da69-4a58-810b-fd509441da10')\"\n",
              "            title=\"Convert this dataframe to an interactive table.\"\n",
              "            style=\"display:none;\">\n",
              "\n",
              "  <svg xmlns=\"http://www.w3.org/2000/svg\" height=\"24px\" viewBox=\"0 -960 960 960\">\n",
              "    <path d=\"M120-120v-720h720v720H120Zm60-500h600v-160H180v160Zm220 220h160v-160H400v160Zm0 220h160v-160H400v160ZM180-400h160v-160H180v160Zm440 0h160v-160H620v160ZM180-180h160v-160H180v160Zm440 0h160v-160H620v160Z\"/>\n",
              "  </svg>\n",
              "    </button>\n",
              "\n",
              "  <style>\n",
              "    .colab-df-container {\n",
              "      display:flex;\n",
              "      gap: 12px;\n",
              "    }\n",
              "\n",
              "    .colab-df-convert {\n",
              "      background-color: #E8F0FE;\n",
              "      border: none;\n",
              "      border-radius: 50%;\n",
              "      cursor: pointer;\n",
              "      display: none;\n",
              "      fill: #1967D2;\n",
              "      height: 32px;\n",
              "      padding: 0 0 0 0;\n",
              "      width: 32px;\n",
              "    }\n",
              "\n",
              "    .colab-df-convert:hover {\n",
              "      background-color: #E2EBFA;\n",
              "      box-shadow: 0px 1px 2px rgba(60, 64, 67, 0.3), 0px 1px 3px 1px rgba(60, 64, 67, 0.15);\n",
              "      fill: #174EA6;\n",
              "    }\n",
              "\n",
              "    .colab-df-buttons div {\n",
              "      margin-bottom: 4px;\n",
              "    }\n",
              "\n",
              "    [theme=dark] .colab-df-convert {\n",
              "      background-color: #3B4455;\n",
              "      fill: #D2E3FC;\n",
              "    }\n",
              "\n",
              "    [theme=dark] .colab-df-convert:hover {\n",
              "      background-color: #434B5C;\n",
              "      box-shadow: 0px 1px 3px 1px rgba(0, 0, 0, 0.15);\n",
              "      filter: drop-shadow(0px 1px 2px rgba(0, 0, 0, 0.3));\n",
              "      fill: #FFFFFF;\n",
              "    }\n",
              "  </style>\n",
              "\n",
              "    <script>\n",
              "      const buttonEl =\n",
              "        document.querySelector('#df-dde89e43-da69-4a58-810b-fd509441da10 button.colab-df-convert');\n",
              "      buttonEl.style.display =\n",
              "        google.colab.kernel.accessAllowed ? 'block' : 'none';\n",
              "\n",
              "      async function convertToInteractive(key) {\n",
              "        const element = document.querySelector('#df-dde89e43-da69-4a58-810b-fd509441da10');\n",
              "        const dataTable =\n",
              "          await google.colab.kernel.invokeFunction('convertToInteractive',\n",
              "                                                    [key], {});\n",
              "        if (!dataTable) return;\n",
              "\n",
              "        const docLinkHtml = 'Like what you see? Visit the ' +\n",
              "          '<a target=\"_blank\" href=https://colab.research.google.com/notebooks/data_table.ipynb>data table notebook</a>'\n",
              "          + ' to learn more about interactive tables.';\n",
              "        element.innerHTML = '';\n",
              "        dataTable['output_type'] = 'display_data';\n",
              "        await google.colab.output.renderOutput(dataTable, element);\n",
              "        const docLink = document.createElement('div');\n",
              "        docLink.innerHTML = docLinkHtml;\n",
              "        element.appendChild(docLink);\n",
              "      }\n",
              "    </script>\n",
              "  </div>\n",
              "\n",
              "\n",
              "<div id=\"df-93d48ea7-5ac6-4968-9754-438648e9356c\">\n",
              "  <button class=\"colab-df-quickchart\" onclick=\"quickchart('df-93d48ea7-5ac6-4968-9754-438648e9356c')\"\n",
              "            title=\"Suggest charts.\"\n",
              "            style=\"display:none;\">\n",
              "\n",
              "<svg xmlns=\"http://www.w3.org/2000/svg\" height=\"24px\"viewBox=\"0 0 24 24\"\n",
              "     width=\"24px\">\n",
              "    <g>\n",
              "        <path d=\"M19 3H5c-1.1 0-2 .9-2 2v14c0 1.1.9 2 2 2h14c1.1 0 2-.9 2-2V5c0-1.1-.9-2-2-2zM9 17H7v-7h2v7zm4 0h-2V7h2v10zm4 0h-2v-4h2v4z\"/>\n",
              "    </g>\n",
              "</svg>\n",
              "  </button>\n",
              "\n",
              "<style>\n",
              "  .colab-df-quickchart {\n",
              "      --bg-color: #E8F0FE;\n",
              "      --fill-color: #1967D2;\n",
              "      --hover-bg-color: #E2EBFA;\n",
              "      --hover-fill-color: #174EA6;\n",
              "      --disabled-fill-color: #AAA;\n",
              "      --disabled-bg-color: #DDD;\n",
              "  }\n",
              "\n",
              "  [theme=dark] .colab-df-quickchart {\n",
              "      --bg-color: #3B4455;\n",
              "      --fill-color: #D2E3FC;\n",
              "      --hover-bg-color: #434B5C;\n",
              "      --hover-fill-color: #FFFFFF;\n",
              "      --disabled-bg-color: #3B4455;\n",
              "      --disabled-fill-color: #666;\n",
              "  }\n",
              "\n",
              "  .colab-df-quickchart {\n",
              "    background-color: var(--bg-color);\n",
              "    border: none;\n",
              "    border-radius: 50%;\n",
              "    cursor: pointer;\n",
              "    display: none;\n",
              "    fill: var(--fill-color);\n",
              "    height: 32px;\n",
              "    padding: 0;\n",
              "    width: 32px;\n",
              "  }\n",
              "\n",
              "  .colab-df-quickchart:hover {\n",
              "    background-color: var(--hover-bg-color);\n",
              "    box-shadow: 0 1px 2px rgba(60, 64, 67, 0.3), 0 1px 3px 1px rgba(60, 64, 67, 0.15);\n",
              "    fill: var(--button-hover-fill-color);\n",
              "  }\n",
              "\n",
              "  .colab-df-quickchart-complete:disabled,\n",
              "  .colab-df-quickchart-complete:disabled:hover {\n",
              "    background-color: var(--disabled-bg-color);\n",
              "    fill: var(--disabled-fill-color);\n",
              "    box-shadow: none;\n",
              "  }\n",
              "\n",
              "  .colab-df-spinner {\n",
              "    border: 2px solid var(--fill-color);\n",
              "    border-color: transparent;\n",
              "    border-bottom-color: var(--fill-color);\n",
              "    animation:\n",
              "      spin 1s steps(1) infinite;\n",
              "  }\n",
              "\n",
              "  @keyframes spin {\n",
              "    0% {\n",
              "      border-color: transparent;\n",
              "      border-bottom-color: var(--fill-color);\n",
              "      border-left-color: var(--fill-color);\n",
              "    }\n",
              "    20% {\n",
              "      border-color: transparent;\n",
              "      border-left-color: var(--fill-color);\n",
              "      border-top-color: var(--fill-color);\n",
              "    }\n",
              "    30% {\n",
              "      border-color: transparent;\n",
              "      border-left-color: var(--fill-color);\n",
              "      border-top-color: var(--fill-color);\n",
              "      border-right-color: var(--fill-color);\n",
              "    }\n",
              "    40% {\n",
              "      border-color: transparent;\n",
              "      border-right-color: var(--fill-color);\n",
              "      border-top-color: var(--fill-color);\n",
              "    }\n",
              "    60% {\n",
              "      border-color: transparent;\n",
              "      border-right-color: var(--fill-color);\n",
              "    }\n",
              "    80% {\n",
              "      border-color: transparent;\n",
              "      border-right-color: var(--fill-color);\n",
              "      border-bottom-color: var(--fill-color);\n",
              "    }\n",
              "    90% {\n",
              "      border-color: transparent;\n",
              "      border-bottom-color: var(--fill-color);\n",
              "    }\n",
              "  }\n",
              "</style>\n",
              "\n",
              "  <script>\n",
              "    async function quickchart(key) {\n",
              "      const quickchartButtonEl =\n",
              "        document.querySelector('#' + key + ' button');\n",
              "      quickchartButtonEl.disabled = true;  // To prevent multiple clicks.\n",
              "      quickchartButtonEl.classList.add('colab-df-spinner');\n",
              "      try {\n",
              "        const charts = await google.colab.kernel.invokeFunction(\n",
              "            'suggestCharts', [key], {});\n",
              "      } catch (error) {\n",
              "        console.error('Error during call to suggestCharts:', error);\n",
              "      }\n",
              "      quickchartButtonEl.classList.remove('colab-df-spinner');\n",
              "      quickchartButtonEl.classList.add('colab-df-quickchart-complete');\n",
              "    }\n",
              "    (() => {\n",
              "      let quickchartButtonEl =\n",
              "        document.querySelector('#df-93d48ea7-5ac6-4968-9754-438648e9356c button');\n",
              "      quickchartButtonEl.style.display =\n",
              "        google.colab.kernel.accessAllowed ? 'block' : 'none';\n",
              "    })();\n",
              "  </script>\n",
              "</div>\n",
              "    </div>\n",
              "  </div>\n"
            ]
          },
          "metadata": {},
          "execution_count": 54
        }
      ]
    },
    {
      "cell_type": "code",
      "source": [
        "## Creating a list of index of the samples to be dropped from the main dataset\n",
        "\n",
        "index = fraction_of_rows.index.values.tolist()\n",
        "index\n"
      ],
      "metadata": {
        "colab": {
          "base_uri": "https://localhost:8080/"
        },
        "id": "pdn0iuIyD4JA",
        "outputId": "730c6415-b3fa-4db8-d3fc-b58d66f8eb35"
      },
      "execution_count": null,
      "outputs": [
        {
          "output_type": "execute_result",
          "data": {
            "text/plain": [
              "[5488,\n",
              " 1936,\n",
              " 5796,\n",
              " 5618,\n",
              " 79,\n",
              " 3993,\n",
              " 1729,\n",
              " 416,\n",
              " 2999,\n",
              " 354,\n",
              " 1660,\n",
              " 2198,\n",
              " 4680,\n",
              " 1197,\n",
              " 3772,\n",
              " 1331,\n",
              " 4515,\n",
              " 1079,\n",
              " 1139,\n",
              " 5081,\n",
              " 976,\n",
              " 4513,\n",
              " 2523,\n",
              " 3210,\n",
              " 4261,\n",
              " 1409,\n",
              " 2941,\n",
              " 2345,\n",
              " 4498,\n",
              " 1233,\n",
              " 5453,\n",
              " 1463,\n",
              " 268,\n",
              " 608,\n",
              " 1596,\n",
              " 3381,\n",
              " 1573,\n",
              " 2366,\n",
              " 3685,\n",
              " 958,\n",
              " 662,\n",
              " 1946,\n",
              " 899,\n",
              " 4731,\n",
              " 2265,\n",
              " 3801,\n",
              " 1560,\n",
              " 3611,\n",
              " 147,\n",
              " 3641,\n",
              " 4298,\n",
              " 308,\n",
              " 3354,\n",
              " 169,\n",
              " 5130,\n",
              " 1016,\n",
              " 3366,\n",
              " 3023,\n",
              " 2112,\n",
              " 4228,\n",
              " 3398,\n",
              " 3964,\n",
              " 5792,\n",
              " 5701,\n",
              " 4277,\n",
              " 5987,\n",
              " 1628,\n",
              " 2860,\n",
              " 784,\n",
              " 1958,\n",
              " 125,\n",
              " 4595,\n",
              " 5134,\n",
              " 4859,\n",
              " 1953,\n",
              " 846,\n",
              " 4941,\n",
              " 4960,\n",
              " 3434,\n",
              " 1966,\n",
              " 714,\n",
              " 5455,\n",
              " 5255,\n",
              " 5078,\n",
              " 5950,\n",
              " 4507,\n",
              " 4485,\n",
              " 5961,\n",
              " 2060,\n",
              " 3347,\n",
              " 248,\n",
              " 4923,\n",
              " 1764,\n",
              " 799,\n",
              " 2273,\n",
              " 5140,\n",
              " 3375,\n",
              " 5857,\n",
              " 234,\n",
              " 3573,\n",
              " 4521,\n",
              " 4442,\n",
              " 5106,\n",
              " 3276,\n",
              " 968,\n",
              " 285,\n",
              " 3142,\n",
              " 5211,\n",
              " 2161,\n",
              " 1748,\n",
              " 2270,\n",
              " 623,\n",
              " 3107,\n",
              " 5312,\n",
              " 5984,\n",
              " 3884,\n",
              " 3720,\n",
              " 301,\n",
              " 1454,\n",
              " 161,\n",
              " 1457,\n",
              " 5402,\n",
              " 5336,\n",
              " 5458,\n",
              " 3846,\n",
              " 1893,\n",
              " 2105,\n",
              " 5928,\n",
              " 730,\n",
              " 5473,\n",
              " 2600,\n",
              " 444,\n",
              " 2916,\n",
              " 3908,\n",
              " 5534,\n",
              " 3253,\n",
              " 5208,\n",
              " 2991,\n",
              " 2905,\n",
              " 4087,\n",
              " 1470,\n",
              " 871,\n",
              " 1155,\n",
              " 4730,\n",
              " 3833,\n",
              " 3277,\n",
              " 3304,\n",
              " 2573,\n",
              " 5451,\n",
              " 4109,\n",
              " 4685,\n",
              " 3917,\n",
              " 1723,\n",
              " 3888,\n",
              " 2331,\n",
              " 4150,\n",
              " 1751,\n",
              " 2157,\n",
              " 2489,\n",
              " 3946,\n",
              " 2015,\n",
              " 644,\n",
              " 1859,\n",
              " 2656,\n",
              " 3469,\n",
              " 3383,\n",
              " 5503,\n",
              " 4953,\n",
              " 276,\n",
              " 179,\n",
              " 3636,\n",
              " 1796,\n",
              " 136,\n",
              " 2242,\n",
              " 3298,\n",
              " 2646,\n",
              " 2262,\n",
              " 3198,\n",
              " 250,\n",
              " 3486,\n",
              " 3594,\n",
              " 2705,\n",
              " 5460,\n",
              " 2188,\n",
              " 1710,\n",
              " 4351,\n",
              " 3215,\n",
              " 3571,\n",
              " 4137,\n",
              " 4503,\n",
              " 3257,\n",
              " 4702,\n",
              " 2491,\n",
              " 4370,\n",
              " 5490,\n",
              " 5672,\n",
              " 438,\n",
              " 3467,\n",
              " 28,\n",
              " 1657,\n",
              " 1584,\n",
              " 4086,\n",
              " 4410,\n",
              " 763,\n",
              " 4550,\n",
              " 5408,\n",
              " 4272,\n",
              " 5173,\n",
              " 3019,\n",
              " 1309,\n",
              " 4029,\n",
              " 689,\n",
              " 1132,\n",
              " 3488,\n",
              " 941,\n",
              " 5072,\n",
              " 4799,\n",
              " 4167,\n",
              " 1159,\n",
              " 4166,\n",
              " 5847,\n",
              " 2740,\n",
              " 2445,\n",
              " 314,\n",
              " 2575,\n",
              " 3155,\n",
              " 4044,\n",
              " 3370,\n",
              " 1385,\n",
              " 21,\n",
              " 200,\n",
              " 6004,\n",
              " 3706,\n",
              " 4560,\n",
              " 386,\n",
              " 3361,\n",
              " 3218,\n",
              " 5596,\n",
              " 1026,\n",
              " 3015,\n",
              " 496,\n",
              " 4636,\n",
              " 634,\n",
              " 2977,\n",
              " 3552,\n",
              " 2934,\n",
              " 119,\n",
              " 4875,\n",
              " 5779,\n",
              " 4876,\n",
              " 44,\n",
              " 1227,\n",
              " 368,\n",
              " 5412,\n",
              " 988,\n",
              " 2820,\n",
              " 1577,\n",
              " 758,\n",
              " 4063,\n",
              " 2610,\n",
              " 554,\n",
              " 4897,\n",
              " 4,\n",
              " 3053,\n",
              " 1163,\n",
              " 5775,\n",
              " 3168,\n",
              " 2657,\n",
              " 552,\n",
              " 433,\n",
              " 5712,\n",
              " 4016,\n",
              " 5487,\n",
              " 3194,\n",
              " 3420,\n",
              " 1833,\n",
              " 2402,\n",
              " 4259,\n",
              " 383,\n",
              " 5959,\n",
              " 4224,\n",
              " 555,\n",
              " 1011,\n",
              " 385,\n",
              " 5658,\n",
              " 1328,\n",
              " 4873,\n",
              " 2809,\n",
              " 4111,\n",
              " 5626,\n",
              " 3660,\n",
              " 1060,\n",
              " 2918,\n",
              " 2928,\n",
              " 2233,\n",
              " 1272,\n",
              " 2406,\n",
              " 2209,\n",
              " 2838,\n",
              " 3390,\n",
              " 4679,\n",
              " 1495,\n",
              " 5907,\n",
              " 4917,\n",
              " 3814,\n",
              " 5654,\n",
              " 687,\n",
              " 222,\n",
              " 997,\n",
              " 943,\n",
              " 1217,\n",
              " 5049,\n",
              " 5015,\n",
              " 233,\n",
              " 2326,\n",
              " 3073,\n",
              " 5149,\n",
              " 3761,\n",
              " 2011,\n",
              " 642,\n",
              " 3495,\n",
              " 3923,\n",
              " 1377,\n",
              " 2634,\n",
              " 3793,\n",
              " 4668,\n",
              " 1074,\n",
              " 4301,\n",
              " 5125,\n",
              " 2535,\n",
              " 4844,\n",
              " 792,\n",
              " 895,\n",
              " 116,\n",
              " 3144,\n",
              " 2950,\n",
              " 1448,\n",
              " 881,\n",
              " 5279,\n",
              " 5718,\n",
              " 5850,\n",
              " 4036,\n",
              " 4522,\n",
              " 5356,\n",
              " 4445,\n",
              " 2837,\n",
              " 2689,\n",
              " 2490,\n",
              " 727,\n",
              " 5042,\n",
              " 1453,\n",
              " 5472,\n",
              " 3951,\n",
              " 331,\n",
              " 870,\n",
              " 4417,\n",
              " 4767,\n",
              " 1410,\n",
              " 3005,\n",
              " 3645,\n",
              " 984,\n",
              " 5183,\n",
              " 5439,\n",
              " 5774,\n",
              " 343,\n",
              " 2583,\n",
              " 1745,\n",
              " 729,\n",
              " 473,\n",
              " 2538,\n",
              " 3740,\n",
              " 1718,\n",
              " 4251,\n",
              " 1256,\n",
              " 2442,\n",
              " 2398,\n",
              " 2362,\n",
              " 611,\n",
              " 5270,\n",
              " 1832,\n",
              " 3725,\n",
              " 141,\n",
              " 1236,\n",
              " 4555,\n",
              " 1342,\n",
              " 2457,\n",
              " 4639,\n",
              " 5773,\n",
              " 5966,\n",
              " 4733,\n",
              " 3601,\n",
              " 4072,\n",
              " 580,\n",
              " 4344,\n",
              " 2997,\n",
              " 5146,\n",
              " 2340,\n",
              " 4181,\n",
              " 2427,\n",
              " 2857,\n",
              " 3507,\n",
              " 366,\n",
              " 2815,\n",
              " 605,\n",
              " 4108,\n",
              " 4659,\n",
              " 3121,\n",
              " 5198,\n",
              " 3472,\n",
              " 3003,\n",
              " 712,\n",
              " 2900,\n",
              " 5945,\n",
              " 1922,\n",
              " 3635,\n",
              " 4531,\n",
              " 2589,\n",
              " 2192,\n",
              " 4455,\n",
              " 1650,\n",
              " 5791,\n",
              " 3692,\n",
              " 5504,\n",
              " 2246,\n",
              " 1653,\n",
              " 3620,\n",
              " 607,\n",
              " 1326,\n",
              " 1758,\n",
              " 3595,\n",
              " 407,\n",
              " 2908,\n",
              " 1242,\n",
              " 126,\n",
              " 1913,\n",
              " 4423,\n",
              " 3862,\n",
              " 4835,\n",
              " 181,\n",
              " 1144,\n",
              " 5477,\n",
              " 4942,\n",
              " 219,\n",
              " 1056,\n",
              " 5160,\n",
              " 5301,\n",
              " 5454,\n",
              " 115,\n",
              " 4678,\n",
              " 3051,\n",
              " 1621,\n",
              " 420,\n",
              " 101,\n",
              " 1416,\n",
              " 3639,\n",
              " 2963,\n",
              " 5505,\n",
              " 5180,\n",
              " 5267,\n",
              " 1740,\n",
              " 5277,\n",
              " 2336,\n",
              " 3483,\n",
              " 4045,\n",
              " 4291,\n",
              " 503,\n",
              " 4864,\n",
              " 1857,\n",
              " 2084,\n",
              " 5136,\n",
              " 5524,\n",
              " 1232,\n",
              " 311,\n",
              " 4899,\n",
              " 5244,\n",
              " 5720,\n",
              " 5781,\n",
              " 4229,\n",
              " 5968,\n",
              " 1240,\n",
              " 5463,\n",
              " 3385,\n",
              " 1520,\n",
              " 2596,\n",
              " 5348,\n",
              " 1437,\n",
              " 4187,\n",
              " 440,\n",
              " 1578,\n",
              " 2796,\n",
              " 5177,\n",
              " 255,\n",
              " 3376,\n",
              " 2901,\n",
              " 3972,\n",
              " 3553,\n",
              " 5812,\n",
              " 259,\n",
              " 1504,\n",
              " 5648,\n",
              " 4924,\n",
              " 2031,\n",
              " 4795,\n",
              " 3871,\n",
              " 1961,\n",
              " 2576,\n",
              " 1399,\n",
              " 3672,\n",
              " 2890,\n",
              " 5407,\n",
              " 81,\n",
              " 33,\n",
              " 1683,\n",
              " 2721,\n",
              " 669,\n",
              " 72,\n",
              " 4777,\n",
              " 545,\n",
              " 3865,\n",
              " 1655,\n",
              " 5544,\n",
              " 5014,\n",
              " 5366,\n",
              " 2722,\n",
              " 5025,\n",
              " 4506,\n",
              " 3896,\n",
              " 5238,\n",
              " 4060,\n",
              " 1321,\n",
              " 2440,\n",
              " 5303,\n",
              " 2382,\n",
              " 1023,\n",
              " 3683,\n",
              " 3771,\n",
              " 389,\n",
              " 2756,\n",
              " 1403,\n",
              " 1933,\n",
              " 4402,\n",
              " 3991,\n",
              " 2611,\n",
              " 5436,\n",
              " 927,\n",
              " 1624,\n",
              " 2090,\n",
              " 3041,\n",
              " 186,\n",
              " 5859,\n",
              " 5037,\n",
              " 2414,\n",
              " 4460,\n",
              " 2670,\n",
              " 3513,\n",
              " 718,\n",
              " 4297,\n",
              " 573,\n",
              " 3849,\n",
              " 447,\n",
              " 5445,\n",
              " 5585,\n",
              " 1753,\n",
              " 4143,\n",
              " 325,\n",
              " 3716,\n",
              " 4227,\n",
              " 3249,\n",
              " 5649,\n",
              " 3290,\n",
              " 3271,\n",
              " 1885,\n",
              " 4926,\n",
              " 359,\n",
              " 4117,\n",
              " 1790,\n",
              " 486,\n",
              " 1050,\n",
              " 2565,\n",
              " 3872,\n",
              " 574,\n",
              " 5877,\n",
              " 5137,\n",
              " 867,\n",
              " 4230,\n",
              " 3823,\n",
              " 4904,\n",
              " 2185,\n",
              " 5874,\n",
              " 3724,\n",
              " 82,\n",
              " 1681,\n",
              " 1289,\n",
              " 5802,\n",
              " 2229,\n",
              " 196,\n",
              " 2054,\n",
              " 3602,\n",
              " 2338,\n",
              " 4576,\n",
              " 6008]"
            ]
          },
          "metadata": {},
          "execution_count": 55
        }
      ]
    },
    {
      "cell_type": "code",
      "source": [
        "## Dropping rows with the index numbers\n",
        "\n",
        "train_df.drop(index = index, inplace = True)"
      ],
      "metadata": {
        "id": "kGafY8OYD8VL"
      },
      "execution_count": null,
      "outputs": []
    },
    {
      "cell_type": "code",
      "source": [
        "train_df.shape"
      ],
      "metadata": {
        "colab": {
          "base_uri": "https://localhost:8080/"
        },
        "id": "-nD_vu9VEDMI",
        "outputId": "f5e91af3-281f-4198-c0f0-ecd9b7addbd4"
      },
      "execution_count": null,
      "outputs": [
        {
          "output_type": "execute_result",
          "data": {
            "text/plain": [
              "(5413, 44)"
            ]
          },
          "metadata": {},
          "execution_count": 57
        }
      ]
    },
    {
      "cell_type": "code",
      "source": [
        "## Resetting index for the validation dataset\n",
        "\n",
        "fraction_of_rows.reset_index(drop = True, inplace=True)"
      ],
      "metadata": {
        "id": "qJa00AJHEGyj"
      },
      "execution_count": null,
      "outputs": []
    },
    {
      "cell_type": "code",
      "source": [
        "fraction_of_rows.shape"
      ],
      "metadata": {
        "colab": {
          "base_uri": "https://localhost:8080/"
        },
        "id": "6AvDPHjiEJtp",
        "outputId": "804fc2e0-48c1-471b-c176-d0b1ae9a4660"
      },
      "execution_count": null,
      "outputs": [
        {
          "output_type": "execute_result",
          "data": {
            "text/plain": [
              "(601, 44)"
            ]
          },
          "metadata": {},
          "execution_count": 59
        }
      ]
    },
    {
      "cell_type": "code",
      "source": [
        "## Creating X and y for dependant and independent variables\n",
        "\n",
        "X = train_df.loc[:,train_df.columns != 'fraud']\n",
        "y = train_df['fraud']"
      ],
      "metadata": {
        "id": "DyalD8utENmB"
      },
      "execution_count": null,
      "outputs": []
    },
    {
      "cell_type": "code",
      "source": [
        "## Splitting the dataset into training and test data\n",
        "\n",
        "X_train, X_test, y_train, y_test = train_test_split(X, y, test_size = 0.30, random_state=42)"
      ],
      "metadata": {
        "id": "eOW_5DqGEYg5"
      },
      "execution_count": null,
      "outputs": []
    },
    {
      "cell_type": "code",
      "source": [
        "## Creating dataframe for X and y validation dataset\n",
        "\n",
        "X_valid = fraction_of_rows.loc[:,fraction_of_rows.columns != 'fraud']\n",
        "y_valid = fraction_of_rows['fraud']"
      ],
      "metadata": {
        "id": "kZesU87aEb5y"
      },
      "execution_count": null,
      "outputs": []
    },
    {
      "cell_type": "code",
      "source": [
        "X_train.shape"
      ],
      "metadata": {
        "colab": {
          "base_uri": "https://localhost:8080/"
        },
        "id": "40_A5FvMEfZa",
        "outputId": "f449c3cc-e13f-45b4-e4f7-a699ee29df50"
      },
      "execution_count": null,
      "outputs": [
        {
          "output_type": "execute_result",
          "data": {
            "text/plain": [
              "(3789, 43)"
            ]
          },
          "metadata": {},
          "execution_count": 63
        }
      ]
    },
    {
      "cell_type": "code",
      "source": [
        "# Defining the classes\n",
        "classes = sorted(y_train.unique())"
      ],
      "metadata": {
        "id": "ybZUknyAEihi"
      },
      "execution_count": null,
      "outputs": []
    },
    {
      "cell_type": "code",
      "source": [
        "## Standardizing the X dataset\n",
        "\n",
        "ss = StandardScaler()\n",
        "X_train=ss.fit_transform(X_train)\n",
        "X_test=ss.transform(X_test)\n",
        "X_valid=ss.transform(X_valid)"
      ],
      "metadata": {
        "id": "hvcqaYEqElib"
      },
      "execution_count": null,
      "outputs": []
    },
    {
      "cell_type": "code",
      "source": [
        "train_df.shape"
      ],
      "metadata": {
        "colab": {
          "base_uri": "https://localhost:8080/"
        },
        "id": "C6Mc0-xwFYbm",
        "outputId": "4faab930-bdea-4458-b2af-40e48346f0c8"
      },
      "execution_count": null,
      "outputs": [
        {
          "output_type": "execute_result",
          "data": {
            "text/plain": [
              "(5413, 44)"
            ]
          },
          "metadata": {},
          "execution_count": 70
        }
      ]
    },
    {
      "cell_type": "code",
      "source": [
        "keras.layers.BatchNormalization()\n",
        "model = Sequential()\n",
        "#First Hidden Layer\n",
        "model.add(Dense(1024, activation='relu', kernel_initializer='random_normal', input_dim=43)) #As we have 43 columns\n",
        "\n",
        "#All other hidden layers in a for loop with nodes reducing in each loop\n",
        "nodes = 1024\n",
        "for i in range(9):\n",
        "    nodes = nodes // 2\n",
        "    model.add(Dense(nodes, activation='relu', kernel_initializer='random_normal'))\n",
        "\n",
        "#Output Layer\n",
        "model.add(Dense(1))\n",
        "model.add(Activation('sigmoid'))\n",
        "\n",
        "model.summary()"
      ],
      "metadata": {
        "colab": {
          "base_uri": "https://localhost:8080/"
        },
        "id": "RZqduB7sFb4V",
        "outputId": "f2504598-a9fb-4d46-c554-20bd2517d0cf"
      },
      "execution_count": null,
      "outputs": [
        {
          "output_type": "stream",
          "name": "stdout",
          "text": [
            "Model: \"sequential\"\n",
            "_________________________________________________________________\n",
            " Layer (type)                Output Shape              Param #   \n",
            "=================================================================\n",
            " dense (Dense)               (None, 1024)              45056     \n",
            "                                                                 \n",
            " dense_1 (Dense)             (None, 512)               524800    \n",
            "                                                                 \n",
            " dense_2 (Dense)             (None, 256)               131328    \n",
            "                                                                 \n",
            " dense_3 (Dense)             (None, 128)               32896     \n",
            "                                                                 \n",
            " dense_4 (Dense)             (None, 64)                8256      \n",
            "                                                                 \n",
            " dense_5 (Dense)             (None, 32)                2080      \n",
            "                                                                 \n",
            " dense_6 (Dense)             (None, 16)                528       \n",
            "                                                                 \n",
            " dense_7 (Dense)             (None, 8)                 136       \n",
            "                                                                 \n",
            " dense_8 (Dense)             (None, 4)                 36        \n",
            "                                                                 \n",
            " dense_9 (Dense)             (None, 2)                 10        \n",
            "                                                                 \n",
            " dense_10 (Dense)            (None, 1)                 3         \n",
            "                                                                 \n",
            " activation (Activation)     (None, 1)                 0         \n",
            "                                                                 \n",
            "=================================================================\n",
            "Total params: 745,129\n",
            "Trainable params: 745,129\n",
            "Non-trainable params: 0\n",
            "_________________________________________________________________\n"
          ]
        }
      ]
    },
    {
      "cell_type": "code",
      "source": [
        "## Compiling the model created\n",
        "\n",
        "model.compile(optimizer='adam',loss='binary_crossentropy',metrics=['accuracy'])"
      ],
      "metadata": {
        "id": "za_KDybUFhfH"
      },
      "execution_count": null,
      "outputs": []
    },
    {
      "cell_type": "code",
      "source": [
        "csvlogger = CSVLogger('training.log',separator=',',append=False)\n",
        "\n",
        "result = model.fit(X_train, y_train, batch_size = 512, epochs = 15, callbacks=[csvlogger])"
      ],
      "metadata": {
        "colab": {
          "base_uri": "https://localhost:8080/"
        },
        "id": "-1GKBwe5FlUF",
        "outputId": "b3cd42ff-d2b6-46ac-8e3f-b2c3ad4cc046"
      },
      "execution_count": null,
      "outputs": [
        {
          "output_type": "stream",
          "name": "stdout",
          "text": [
            "Epoch 1/15\n",
            "8/8 [==============================] - 4s 96ms/step - loss: 0.6894 - accuracy: 0.9683\n",
            "Epoch 2/15\n",
            "8/8 [==============================] - 1s 58ms/step - loss: 0.6798 - accuracy: 0.9683\n",
            "Epoch 3/15\n",
            "8/8 [==============================] - 0s 55ms/step - loss: 0.6696 - accuracy: 0.9683\n",
            "Epoch 4/15\n",
            "8/8 [==============================] - 0s 54ms/step - loss: 0.6587 - accuracy: 0.9683\n",
            "Epoch 5/15\n",
            "8/8 [==============================] - 0s 53ms/step - loss: 0.6382 - accuracy: 0.9683\n",
            "Epoch 6/15\n",
            "8/8 [==============================] - 0s 52ms/step - loss: 0.3971 - accuracy: 0.9683\n",
            "Epoch 7/15\n",
            "8/8 [==============================] - 0s 54ms/step - loss: 0.1896 - accuracy: 0.9683\n",
            "Epoch 8/15\n",
            "8/8 [==============================] - 0s 54ms/step - loss: 0.1304 - accuracy: 0.9683\n",
            "Epoch 9/15\n",
            "8/8 [==============================] - 0s 55ms/step - loss: 0.1200 - accuracy: 0.9683\n",
            "Epoch 10/15\n",
            "8/8 [==============================] - 0s 53ms/step - loss: 0.1066 - accuracy: 0.9683\n",
            "Epoch 11/15\n",
            "8/8 [==============================] - 0s 54ms/step - loss: 0.0982 - accuracy: 0.9683\n",
            "Epoch 12/15\n",
            "8/8 [==============================] - 0s 53ms/step - loss: 0.0926 - accuracy: 0.9683\n",
            "Epoch 13/15\n",
            "8/8 [==============================] - 0s 55ms/step - loss: 0.0874 - accuracy: 0.9683\n",
            "Epoch 14/15\n",
            "8/8 [==============================] - 0s 54ms/step - loss: 0.0830 - accuracy: 0.9683\n",
            "Epoch 15/15\n",
            "8/8 [==============================] - 0s 55ms/step - loss: 0.0795 - accuracy: 0.9683\n"
          ]
        }
      ]
    },
    {
      "cell_type": "code",
      "source": [
        "plt.plot(result.history['accuracy'],'green',label='Accuracy')\n",
        "plt.plot(result.history['loss'],'red',label='Loss')\n",
        "plt.title('Training Accuracy & Loss')\n",
        "plt.xlabel('Epoch')\n",
        "plt.legend(loc=0)"
      ],
      "metadata": {
        "colab": {
          "base_uri": "https://localhost:8080/",
          "height": 489
        },
        "id": "nkrjw7XfFqdN",
        "outputId": "79380a7d-3648-46ea-ddfe-82ef1d53cc35"
      },
      "execution_count": null,
      "outputs": [
        {
          "output_type": "execute_result",
          "data": {
            "text/plain": [
              "<matplotlib.legend.Legend at 0x7e0576ba24a0>"
            ]
          },
          "metadata": {},
          "execution_count": 74
        },
        {
          "output_type": "display_data",
          "data": {
            "text/plain": [
              "<Figure size 640x480 with 1 Axes>"
            ],
            "image/png": "[encoded data removed]"
          },
          "metadata": {}
        }
      ]
    },
    {
      "cell_type": "code",
      "source": [
        "# Predicting the custom model model\n",
        "\n",
        "train_evaluate=model.evaluate(X_train, y_train)\n",
        "test_evaluate=model.evaluate(X_test, y_test)\n",
        "print('accuracy for Train set is',train_evaluate)\n",
        "print('accuracy for Test set is',test_evaluate) # evaluation of model.\n",
        "yf_pred1=model.predict(X_test,batch_size=512,verbose=1)\n",
        "yf_pred=np.argmax(yf_pred1,axis=1)\n",
        "print(f1_score(y_test,yf_pred,average=\"weighted\"))"
      ],
      "metadata": {
        "colab": {
          "base_uri": "https://localhost:8080/"
        },
        "id": "BBRWbkySFy2d",
        "outputId": "f0075cb6-4092-41ab-d554-9d34aca38f01"
      },
      "execution_count": null,
      "outputs": [
        {
          "output_type": "stream",
          "name": "stdout",
          "text": [
            "119/119 [==============================] - 2s 7ms/step - loss: 0.0765 - accuracy: 0.9683\n",
            "51/51 [==============================] - 0s 7ms/step - loss: nan - accuracy: 0.9729\n",
            "accuracy for Train set is [0.07645896822214127, 0.9683293700218201]\n",
            "accuracy for Test set is [nan, 0.9729064106941223]\n",
            "4/4 [==============================] - 0s 26ms/step\n",
            "0.9595456418393264\n"
          ]
        }
      ]
    },
    {
      "cell_type": "code",
      "source": [
        "predictions = model.predict(X_valid)"
      ],
      "metadata": {
        "colab": {
          "base_uri": "https://localhost:8080/"
        },
        "id": "TELnsz4MF6rx",
        "outputId": "328166c1-8164-4ea2-a143-3e07f4598a35"
      },
      "execution_count": null,
      "outputs": [
        {
          "output_type": "stream",
          "name": "stdout",
          "text": [
            "19/19 [==============================] - 0s 7ms/step\n"
          ]
        }
      ]
    },
    {
      "cell_type": "code",
      "source": [
        "predictions = (predictions > 0.5).astype(np.float32)"
      ],
      "metadata": {
        "id": "S_InEx45F_lM"
      },
      "execution_count": null,
      "outputs": []
    },
    {
      "cell_type": "code",
      "source": [
        "predictions"
      ],
      "metadata": {
        "colab": {
          "base_uri": "https://localhost:8080/"
        },
        "id": "EflwU5ZNGC2A",
        "outputId": "1e624364-629f-44e9-a0d5-12e7de79c73e"
      },
      "execution_count": null,
      "outputs": [
        {
          "output_type": "execute_result",
          "data": {
            "text/plain": [
              "array([[0.],\n",
              "       [0.],\n",
              "       [0.],\n",
              "       [0.],\n",
              "       [0.],\n",
              "       [0.],\n",
              "       [0.],\n",
              "       [0.],\n",
              "       [0.],\n",
              "       [0.],\n",
              "       [0.],\n",
              "       [0.],\n",
              "       [0.],\n",
              "       [0.],\n",
              "       [0.],\n",
              "       [0.],\n",
              "       [0.],\n",
              "       [0.],\n",
              "       [0.],\n",
              "       [0.],\n",
              "       [0.],\n",
              "       [0.],\n",
              "       [0.],\n",
              "       [0.],\n",
              "       [0.],\n",
              "       [0.],\n",
              "       [0.],\n",
              "       [0.],\n",
              "       [0.],\n",
              "       [0.],\n",
              "       [0.],\n",
              "       [0.],\n",
              "       [0.],\n",
              "       [0.],\n",
              "       [0.],\n",
              "       [0.],\n",
              "       [0.],\n",
              "       [0.],\n",
              "       [0.],\n",
              "       [0.],\n",
              "       [0.],\n",
              "       [0.],\n",
              "       [0.],\n",
              "       [0.],\n",
              "       [0.],\n",
              "       [0.],\n",
              "       [0.],\n",
              "       [0.],\n",
              "       [0.],\n",
              "       [0.],\n",
              "       [0.],\n",
              "       [0.],\n",
              "       [0.],\n",
              "       [0.],\n",
              "       [0.],\n",
              "       [0.],\n",
              "       [0.],\n",
              "       [0.],\n",
              "       [0.],\n",
              "       [0.],\n",
              "       [0.],\n",
              "       [0.],\n",
              "       [0.],\n",
              "       [0.],\n",
              "       [0.],\n",
              "       [0.],\n",
              "       [0.],\n",
              "       [0.],\n",
              "       [0.],\n",
              "       [0.],\n",
              "       [0.],\n",
              "       [0.],\n",
              "       [0.],\n",
              "       [0.],\n",
              "       [0.],\n",
              "       [0.],\n",
              "       [0.],\n",
              "       [0.],\n",
              "       [0.],\n",
              "       [0.],\n",
              "       [0.],\n",
              "       [0.],\n",
              "       [0.],\n",
              "       [0.],\n",
              "       [0.],\n",
              "       [0.],\n",
              "       [0.],\n",
              "       [0.],\n",
              "       [0.],\n",
              "       [0.],\n",
              "       [0.],\n",
              "       [0.],\n",
              "       [0.],\n",
              "       [0.],\n",
              "       [0.],\n",
              "       [0.],\n",
              "       [0.],\n",
              "       [0.],\n",
              "       [0.],\n",
              "       [0.],\n",
              "       [0.],\n",
              "       [0.],\n",
              "       [0.],\n",
              "       [0.],\n",
              "       [0.],\n",
              "       [0.],\n",
              "       [0.],\n",
              "       [0.],\n",
              "       [0.],\n",
              "       [0.],\n",
              "       [0.],\n",
              "       [0.],\n",
              "       [0.],\n",
              "       [0.],\n",
              "       [0.],\n",
              "       [0.],\n",
              "       [0.],\n",
              "       [0.],\n",
              "       [0.],\n",
              "       [0.],\n",
              "       [0.],\n",
              "       [0.],\n",
              "       [0.],\n",
              "       [0.],\n",
              "       [0.],\n",
              "       [0.],\n",
              "       [0.],\n",
              "       [0.],\n",
              "       [0.],\n",
              "       [0.],\n",
              "       [0.],\n",
              "       [0.],\n",
              "       [0.],\n",
              "       [0.],\n",
              "       [0.],\n",
              "       [0.],\n",
              "       [0.],\n",
              "       [0.],\n",
              "       [0.],\n",
              "       [0.],\n",
              "       [0.],\n",
              "       [0.],\n",
              "       [0.],\n",
              "       [0.],\n",
              "       [0.],\n",
              "       [0.],\n",
              "       [0.],\n",
              "       [0.],\n",
              "       [0.],\n",
              "       [0.],\n",
              "       [0.],\n",
              "       [0.],\n",
              "       [0.],\n",
              "       [0.],\n",
              "       [0.],\n",
              "       [0.],\n",
              "       [0.],\n",
              "       [0.],\n",
              "       [0.],\n",
              "       [0.],\n",
              "       [0.],\n",
              "       [0.],\n",
              "       [0.],\n",
              "       [0.],\n",
              "       [0.],\n",
              "       [0.],\n",
              "       [0.],\n",
              "       [0.],\n",
              "       [0.],\n",
              "       [0.],\n",
              "       [0.],\n",
              "       [0.],\n",
              "       [0.],\n",
              "       [0.],\n",
              "       [0.],\n",
              "       [0.],\n",
              "       [0.],\n",
              "       [0.],\n",
              "       [0.],\n",
              "       [0.],\n",
              "       [0.],\n",
              "       [0.],\n",
              "       [0.],\n",
              "       [0.],\n",
              "       [0.],\n",
              "       [0.],\n",
              "       [0.],\n",
              "       [0.],\n",
              "       [0.],\n",
              "       [0.],\n",
              "       [0.],\n",
              "       [0.],\n",
              "       [0.],\n",
              "       [0.],\n",
              "       [0.],\n",
              "       [0.],\n",
              "       [0.],\n",
              "       [0.],\n",
              "       [0.],\n",
              "       [0.],\n",
              "       [0.],\n",
              "       [0.],\n",
              "       [0.],\n",
              "       [0.],\n",
              "       [0.],\n",
              "       [0.],\n",
              "       [0.],\n",
              "       [0.],\n",
              "       [0.],\n",
              "       [0.],\n",
              "       [0.],\n",
              "       [0.],\n",
              "       [0.],\n",
              "       [0.],\n",
              "       [0.],\n",
              "       [0.],\n",
              "       [0.],\n",
              "       [0.],\n",
              "       [0.],\n",
              "       [0.],\n",
              "       [0.],\n",
              "       [0.],\n",
              "       [0.],\n",
              "       [0.],\n",
              "       [0.],\n",
              "       [0.],\n",
              "       [0.],\n",
              "       [0.],\n",
              "       [0.],\n",
              "       [0.],\n",
              "       [0.],\n",
              "       [0.],\n",
              "       [0.],\n",
              "       [0.],\n",
              "       [0.],\n",
              "       [0.],\n",
              "       [0.],\n",
              "       [0.],\n",
              "       [0.],\n",
              "       [0.],\n",
              "       [0.],\n",
              "       [0.],\n",
              "       [0.],\n",
              "       [0.],\n",
              "       [0.],\n",
              "       [0.],\n",
              "       [0.],\n",
              "       [0.],\n",
              "       [0.],\n",
              "       [0.],\n",
              "       [0.],\n",
              "       [0.],\n",
              "       [0.],\n",
              "       [0.],\n",
              "       [0.],\n",
              "       [0.],\n",
              "       [0.],\n",
              "       [0.],\n",
              "       [0.],\n",
              "       [0.],\n",
              "       [0.],\n",
              "       [0.],\n",
              "       [0.],\n",
              "       [0.],\n",
              "       [0.],\n",
              "       [0.],\n",
              "       [0.],\n",
              "       [0.],\n",
              "       [0.],\n",
              "       [0.],\n",
              "       [0.],\n",
              "       [0.],\n",
              "       [0.],\n",
              "       [0.],\n",
              "       [0.],\n",
              "       [0.],\n",
              "       [0.],\n",
              "       [0.],\n",
              "       [0.],\n",
              "       [0.],\n",
              "       [0.],\n",
              "       [0.],\n",
              "       [0.],\n",
              "       [0.],\n",
              "       [0.],\n",
              "       [0.],\n",
              "       [0.],\n",
              "       [0.],\n",
              "       [0.],\n",
              "       [0.],\n",
              "       [0.],\n",
              "       [0.],\n",
              "       [0.],\n",
              "       [0.],\n",
              "       [0.],\n",
              "       [0.],\n",
              "       [0.],\n",
              "       [0.],\n",
              "       [0.],\n",
              "       [0.],\n",
              "       [0.],\n",
              "       [0.],\n",
              "       [0.],\n",
              "       [0.],\n",
              "       [0.],\n",
              "       [0.],\n",
              "       [0.],\n",
              "       [0.],\n",
              "       [0.],\n",
              "       [0.],\n",
              "       [0.],\n",
              "       [0.],\n",
              "       [0.],\n",
              "       [0.],\n",
              "       [0.],\n",
              "       [0.],\n",
              "       [0.],\n",
              "       [0.],\n",
              "       [0.],\n",
              "       [0.],\n",
              "       [0.],\n",
              "       [0.],\n",
              "       [0.],\n",
              "       [0.],\n",
              "       [0.],\n",
              "       [0.],\n",
              "       [0.],\n",
              "       [0.],\n",
              "       [0.],\n",
              "       [0.],\n",
              "       [0.],\n",
              "       [0.],\n",
              "       [0.],\n",
              "       [0.],\n",
              "       [0.],\n",
              "       [0.],\n",
              "       [0.],\n",
              "       [0.],\n",
              "       [0.],\n",
              "       [0.],\n",
              "       [0.],\n",
              "       [0.],\n",
              "       [0.],\n",
              "       [0.],\n",
              "       [0.],\n",
              "       [0.],\n",
              "       [0.],\n",
              "       [0.],\n",
              "       [0.],\n",
              "       [0.],\n",
              "       [0.],\n",
              "       [0.],\n",
              "       [0.],\n",
              "       [0.],\n",
              "       [0.],\n",
              "       [0.],\n",
              "       [0.],\n",
              "       [0.],\n",
              "       [0.],\n",
              "       [0.],\n",
              "       [0.],\n",
              "       [0.],\n",
              "       [0.],\n",
              "       [0.],\n",
              "       [0.],\n",
              "       [0.],\n",
              "       [0.],\n",
              "       [0.],\n",
              "       [0.],\n",
              "       [0.],\n",
              "       [0.],\n",
              "       [0.],\n",
              "       [0.],\n",
              "       [0.],\n",
              "       [0.],\n",
              "       [0.],\n",
              "       [0.],\n",
              "       [0.],\n",
              "       [0.],\n",
              "       [0.],\n",
              "       [0.],\n",
              "       [0.],\n",
              "       [0.],\n",
              "       [0.],\n",
              "       [0.],\n",
              "       [0.],\n",
              "       [0.],\n",
              "       [0.],\n",
              "       [0.],\n",
              "       [0.],\n",
              "       [0.],\n",
              "       [0.],\n",
              "       [0.],\n",
              "       [0.],\n",
              "       [0.],\n",
              "       [0.],\n",
              "       [0.],\n",
              "       [0.],\n",
              "       [0.],\n",
              "       [0.],\n",
              "       [0.],\n",
              "       [0.],\n",
              "       [0.],\n",
              "       [0.],\n",
              "       [0.],\n",
              "       [0.],\n",
              "       [0.],\n",
              "       [0.],\n",
              "       [0.],\n",
              "       [0.],\n",
              "       [0.],\n",
              "       [0.],\n",
              "       [0.],\n",
              "       [0.],\n",
              "       [0.],\n",
              "       [0.],\n",
              "       [0.],\n",
              "       [0.],\n",
              "       [0.],\n",
              "       [0.],\n",
              "       [0.],\n",
              "       [0.],\n",
              "       [0.],\n",
              "       [0.],\n",
              "       [0.],\n",
              "       [0.],\n",
              "       [0.],\n",
              "       [0.],\n",
              "       [0.],\n",
              "       [0.],\n",
              "       [0.],\n",
              "       [0.],\n",
              "       [0.],\n",
              "       [0.],\n",
              "       [0.],\n",
              "       [0.],\n",
              "       [0.],\n",
              "       [0.],\n",
              "       [0.],\n",
              "       [0.],\n",
              "       [0.],\n",
              "       [0.],\n",
              "       [0.],\n",
              "       [0.],\n",
              "       [0.],\n",
              "       [0.],\n",
              "       [0.],\n",
              "       [0.],\n",
              "       [0.],\n",
              "       [0.],\n",
              "       [0.],\n",
              "       [0.],\n",
              "       [0.],\n",
              "       [0.],\n",
              "       [0.],\n",
              "       [0.],\n",
              "       [0.],\n",
              "       [0.],\n",
              "       [0.],\n",
              "       [0.],\n",
              "       [0.],\n",
              "       [0.],\n",
              "       [0.],\n",
              "       [0.],\n",
              "       [0.],\n",
              "       [0.],\n",
              "       [0.],\n",
              "       [0.],\n",
              "       [0.],\n",
              "       [0.],\n",
              "       [0.],\n",
              "       [0.],\n",
              "       [0.],\n",
              "       [0.],\n",
              "       [0.],\n",
              "       [0.],\n",
              "       [0.],\n",
              "       [0.],\n",
              "       [0.],\n",
              "       [0.],\n",
              "       [0.],\n",
              "       [0.],\n",
              "       [0.],\n",
              "       [0.],\n",
              "       [0.],\n",
              "       [0.],\n",
              "       [0.],\n",
              "       [0.],\n",
              "       [0.],\n",
              "       [0.],\n",
              "       [0.],\n",
              "       [0.],\n",
              "       [0.],\n",
              "       [0.],\n",
              "       [0.],\n",
              "       [0.],\n",
              "       [0.],\n",
              "       [0.],\n",
              "       [0.],\n",
              "       [0.],\n",
              "       [0.],\n",
              "       [0.],\n",
              "       [0.],\n",
              "       [0.],\n",
              "       [0.],\n",
              "       [0.],\n",
              "       [0.],\n",
              "       [0.],\n",
              "       [0.],\n",
              "       [0.],\n",
              "       [0.],\n",
              "       [0.],\n",
              "       [0.],\n",
              "       [0.],\n",
              "       [0.],\n",
              "       [0.],\n",
              "       [0.],\n",
              "       [0.],\n",
              "       [0.],\n",
              "       [0.],\n",
              "       [0.],\n",
              "       [0.],\n",
              "       [0.],\n",
              "       [0.],\n",
              "       [0.],\n",
              "       [0.],\n",
              "       [0.],\n",
              "       [0.],\n",
              "       [0.],\n",
              "       [0.],\n",
              "       [0.],\n",
              "       [0.],\n",
              "       [0.],\n",
              "       [0.],\n",
              "       [0.],\n",
              "       [0.],\n",
              "       [0.],\n",
              "       [0.],\n",
              "       [0.],\n",
              "       [0.],\n",
              "       [0.],\n",
              "       [0.],\n",
              "       [0.],\n",
              "       [0.],\n",
              "       [0.],\n",
              "       [0.],\n",
              "       [0.],\n",
              "       [0.],\n",
              "       [0.],\n",
              "       [0.],\n",
              "       [0.],\n",
              "       [0.],\n",
              "       [0.],\n",
              "       [0.],\n",
              "       [0.],\n",
              "       [0.],\n",
              "       [0.],\n",
              "       [0.],\n",
              "       [0.],\n",
              "       [0.],\n",
              "       [0.],\n",
              "       [0.],\n",
              "       [0.],\n",
              "       [0.],\n",
              "       [0.],\n",
              "       [0.],\n",
              "       [0.],\n",
              "       [0.],\n",
              "       [0.],\n",
              "       [0.],\n",
              "       [0.],\n",
              "       [0.],\n",
              "       [0.],\n",
              "       [0.],\n",
              "       [0.],\n",
              "       [0.],\n",
              "       [0.],\n",
              "       [0.],\n",
              "       [0.],\n",
              "       [0.],\n",
              "       [0.],\n",
              "       [0.],\n",
              "       [0.],\n",
              "       [0.],\n",
              "       [0.],\n",
              "       [0.],\n",
              "       [0.],\n",
              "       [0.],\n",
              "       [0.],\n",
              "       [0.],\n",
              "       [0.],\n",
              "       [0.],\n",
              "       [0.],\n",
              "       [0.],\n",
              "       [0.],\n",
              "       [0.],\n",
              "       [0.],\n",
              "       [0.],\n",
              "       [0.],\n",
              "       [0.],\n",
              "       [0.]], dtype=float32)"
            ]
          },
          "metadata": {},
          "execution_count": 78
        }
      ]
    },
    {
      "cell_type": "code",
      "source": [
        "accuracy_score(y_valid,predictions)"
      ],
      "metadata": {
        "colab": {
          "base_uri": "https://localhost:8080/"
        },
        "id": "W7V6QK08GIo5",
        "outputId": "b53f841d-a983-4cac-f026-b62665d04946"
      },
      "execution_count": null,
      "outputs": [
        {
          "output_type": "execute_result",
          "data": {
            "text/plain": [
              "0.9650582362728786"
            ]
          },
          "metadata": {},
          "execution_count": 79
        }
      ]
    },
    {
      "cell_type": "code",
      "source": [
        "keras.backend.clear_session()"
      ],
      "metadata": {
        "id": "yU3CwgM_GLFP"
      },
      "execution_count": null,
      "outputs": []
    }
  ]
}